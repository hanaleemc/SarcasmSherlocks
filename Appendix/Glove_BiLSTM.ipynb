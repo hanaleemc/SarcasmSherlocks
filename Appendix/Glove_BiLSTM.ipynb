{
 "cells": [
  {
   "cell_type": "code",
   "execution_count": 1,
   "metadata": {
    "colab": {
     "base_uri": "https://localhost:8080/",
     "height": 642
    },
    "id": "t4rdaw5BEbAj",
    "outputId": "7baae703-22c2-4e40-9ea9-fe228ff50fef"
   },
   "outputs": [
    {
     "data": {
      "application/vnd.google.colaboratory.intrinsic+json": {
       "summary": "{\n  \"name\": \"train_df\",\n  \"rows\": 3468,\n  \"fields\": [\n    {\n      \"column\": \"Unnamed: 0\",\n      \"properties\": {\n        \"dtype\": \"number\",\n        \"std\": 1001,\n        \"min\": 0,\n        \"max\": 3467,\n        \"num_unique_values\": 3468,\n        \"samples\": [\n          1602,\n          805,\n          864\n        ],\n        \"semantic_type\": \"\",\n        \"description\": \"\"\n      }\n    },\n    {\n      \"column\": \"tweet\",\n      \"properties\": {\n        \"dtype\": \"string\",\n        \"num_unique_values\": 3456,\n        \"samples\": [\n          \"@dave26318632 I don\\u2019t get anywhere near \\u00a3500 a month on UC though. I basically get told \\u201cyou get what you get, and if you don\\u2019t like it you can fuck off and die.\\u201d\\n\\nOne thing\\u2019s for certain, I wouldn\\u2019t cross a puddle for the benefits I\\u2019m on, let alone the Channel.\",\n          \"July 1st. Half way point of the year. Well I think we can all agree that 2020 has gone swimmingly so far. \\nCan\\u2019t wait for part 2. \\n#murderhornets\",\n          \"Wow it\\u2019s almost like we don\\u2019t nap every single day at the exact same time wow how dare I try to do the thing we do every single day!\"\n        ],\n        \"semantic_type\": \"\",\n        \"description\": \"\"\n      }\n    },\n    {\n      \"column\": \"sarcastic\",\n      \"properties\": {\n        \"dtype\": \"number\",\n        \"std\": 0,\n        \"min\": 0,\n        \"max\": 1,\n        \"num_unique_values\": 2,\n        \"samples\": [\n          0,\n          1\n        ],\n        \"semantic_type\": \"\",\n        \"description\": \"\"\n      }\n    },\n    {\n      \"column\": \"rephrase\",\n      \"properties\": {\n        \"dtype\": \"category\",\n        \"num_unique_values\": 865,\n        \"samples\": [\n          \"How will the UK government be changing the Coronavirus restrictions in tonight's briefing?\",\n          \"It is quite obvious that cats do not actually wear nail polish.\"\n        ],\n        \"semantic_type\": \"\",\n        \"description\": \"\"\n      }\n    },\n    {\n      \"column\": \"sarcasm\",\n      \"properties\": {\n        \"dtype\": \"number\",\n        \"std\": 0.3824165072439901,\n        \"min\": 0.0,\n        \"max\": 1.0,\n        \"num_unique_values\": 2,\n        \"samples\": [\n          1.0,\n          0.0\n        ],\n        \"semantic_type\": \"\",\n        \"description\": \"\"\n      }\n    },\n    {\n      \"column\": \"irony\",\n      \"properties\": {\n        \"dtype\": \"number\",\n        \"std\": 0.38338697223747575,\n        \"min\": 0.0,\n        \"max\": 1.0,\n        \"num_unique_values\": 2,\n        \"samples\": [\n          0.0,\n          1.0\n        ],\n        \"semantic_type\": \"\",\n        \"description\": \"\"\n      }\n    },\n    {\n      \"column\": \"satire\",\n      \"properties\": {\n        \"dtype\": \"number\",\n        \"std\": 0.1674393600000276,\n        \"min\": 0.0,\n        \"max\": 1.0,\n        \"num_unique_values\": 2,\n        \"samples\": [\n          1.0,\n          0.0\n        ],\n        \"semantic_type\": \"\",\n        \"description\": \"\"\n      }\n    },\n    {\n      \"column\": \"understatement\",\n      \"properties\": {\n        \"dtype\": \"number\",\n        \"std\": 0.10683705701144951,\n        \"min\": 0.0,\n        \"max\": 1.0,\n        \"num_unique_values\": 2,\n        \"samples\": [\n          1.0,\n          0.0\n        ],\n        \"semantic_type\": \"\",\n        \"description\": \"\"\n      }\n    },\n    {\n      \"column\": \"overstatement\",\n      \"properties\": {\n        \"dtype\": \"number\",\n        \"std\": 0.20990087823453582,\n        \"min\": 0.0,\n        \"max\": 1.0,\n        \"num_unique_values\": 2,\n        \"samples\": [\n          1.0,\n          0.0\n        ],\n        \"semantic_type\": \"\",\n        \"description\": \"\"\n      }\n    },\n    {\n      \"column\": \"rhetorical_question\",\n      \"properties\": {\n        \"dtype\": \"number\",\n        \"std\": 0.32100114162940024,\n        \"min\": 0.0,\n        \"max\": 1.0,\n        \"num_unique_values\": 2,\n        \"samples\": [\n          1.0,\n          0.0\n        ],\n        \"semantic_type\": \"\",\n        \"description\": \"\"\n      }\n    }\n  ]\n}",
       "type": "dataframe",
       "variable_name": "train_df"
      },
      "text/html": [
       "\n",
       "  <div id=\"df-6b550bd0-272d-4321-9232-66cda5a69f82\" class=\"colab-df-container\">\n",
       "    <div>\n",
       "<style scoped>\n",
       "    .dataframe tbody tr th:only-of-type {\n",
       "        vertical-align: middle;\n",
       "    }\n",
       "\n",
       "    .dataframe tbody tr th {\n",
       "        vertical-align: top;\n",
       "    }\n",
       "\n",
       "    .dataframe thead th {\n",
       "        text-align: right;\n",
       "    }\n",
       "</style>\n",
       "<table border=\"1\" class=\"dataframe\">\n",
       "  <thead>\n",
       "    <tr style=\"text-align: right;\">\n",
       "      <th></th>\n",
       "      <th>Unnamed: 0</th>\n",
       "      <th>tweet</th>\n",
       "      <th>sarcastic</th>\n",
       "      <th>rephrase</th>\n",
       "      <th>sarcasm</th>\n",
       "      <th>irony</th>\n",
       "      <th>satire</th>\n",
       "      <th>understatement</th>\n",
       "      <th>overstatement</th>\n",
       "      <th>rhetorical_question</th>\n",
       "    </tr>\n",
       "  </thead>\n",
       "  <tbody>\n",
       "    <tr>\n",
       "      <th>0</th>\n",
       "      <td>0</td>\n",
       "      <td>The only thing I got from college is a caffein...</td>\n",
       "      <td>1</td>\n",
       "      <td>College is really difficult, expensive, tiring...</td>\n",
       "      <td>0.0</td>\n",
       "      <td>1.0</td>\n",
       "      <td>0.0</td>\n",
       "      <td>0.0</td>\n",
       "      <td>0.0</td>\n",
       "      <td>0.0</td>\n",
       "    </tr>\n",
       "    <tr>\n",
       "      <th>1</th>\n",
       "      <td>1</td>\n",
       "      <td>I love it when professors draw a big question ...</td>\n",
       "      <td>1</td>\n",
       "      <td>I do not like when professors don’t write out ...</td>\n",
       "      <td>1.0</td>\n",
       "      <td>0.0</td>\n",
       "      <td>0.0</td>\n",
       "      <td>0.0</td>\n",
       "      <td>0.0</td>\n",
       "      <td>0.0</td>\n",
       "    </tr>\n",
       "    <tr>\n",
       "      <th>2</th>\n",
       "      <td>2</td>\n",
       "      <td>Remember the hundred emails from companies whe...</td>\n",
       "      <td>1</td>\n",
       "      <td>I, at the bare minimum, wish companies actuall...</td>\n",
       "      <td>0.0</td>\n",
       "      <td>1.0</td>\n",
       "      <td>0.0</td>\n",
       "      <td>0.0</td>\n",
       "      <td>0.0</td>\n",
       "      <td>0.0</td>\n",
       "    </tr>\n",
       "    <tr>\n",
       "      <th>3</th>\n",
       "      <td>3</td>\n",
       "      <td>Today my pop-pop told me I was not “forced” to...</td>\n",
       "      <td>1</td>\n",
       "      <td>Today my pop-pop told me I was not \"forced\" to...</td>\n",
       "      <td>1.0</td>\n",
       "      <td>0.0</td>\n",
       "      <td>0.0</td>\n",
       "      <td>0.0</td>\n",
       "      <td>0.0</td>\n",
       "      <td>0.0</td>\n",
       "    </tr>\n",
       "    <tr>\n",
       "      <th>4</th>\n",
       "      <td>4</td>\n",
       "      <td>@VolphanCarol @littlewhitty @mysticalmanatee I...</td>\n",
       "      <td>1</td>\n",
       "      <td>I would say Ted Cruz is an asshole and doesn’t...</td>\n",
       "      <td>1.0</td>\n",
       "      <td>0.0</td>\n",
       "      <td>0.0</td>\n",
       "      <td>0.0</td>\n",
       "      <td>0.0</td>\n",
       "      <td>0.0</td>\n",
       "    </tr>\n",
       "  </tbody>\n",
       "</table>\n",
       "</div>\n",
       "    <div class=\"colab-df-buttons\">\n",
       "\n",
       "  <div class=\"colab-df-container\">\n",
       "    <button class=\"colab-df-convert\" onclick=\"convertToInteractive('df-6b550bd0-272d-4321-9232-66cda5a69f82')\"\n",
       "            title=\"Convert this dataframe to an interactive table.\"\n",
       "            style=\"display:none;\">\n",
       "\n",
       "  <svg xmlns=\"http://www.w3.org/2000/svg\" height=\"24px\" viewBox=\"0 -960 960 960\">\n",
       "    <path d=\"M120-120v-720h720v720H120Zm60-500h600v-160H180v160Zm220 220h160v-160H400v160Zm0 220h160v-160H400v160ZM180-400h160v-160H180v160Zm440 0h160v-160H620v160ZM180-180h160v-160H180v160Zm440 0h160v-160H620v160Z\"/>\n",
       "  </svg>\n",
       "    </button>\n",
       "\n",
       "  <style>\n",
       "    .colab-df-container {\n",
       "      display:flex;\n",
       "      gap: 12px;\n",
       "    }\n",
       "\n",
       "    .colab-df-convert {\n",
       "      background-color: #E8F0FE;\n",
       "      border: none;\n",
       "      border-radius: 50%;\n",
       "      cursor: pointer;\n",
       "      display: none;\n",
       "      fill: #1967D2;\n",
       "      height: 32px;\n",
       "      padding: 0 0 0 0;\n",
       "      width: 32px;\n",
       "    }\n",
       "\n",
       "    .colab-df-convert:hover {\n",
       "      background-color: #E2EBFA;\n",
       "      box-shadow: 0px 1px 2px rgba(60, 64, 67, 0.3), 0px 1px 3px 1px rgba(60, 64, 67, 0.15);\n",
       "      fill: #174EA6;\n",
       "    }\n",
       "\n",
       "    .colab-df-buttons div {\n",
       "      margin-bottom: 4px;\n",
       "    }\n",
       "\n",
       "    [theme=dark] .colab-df-convert {\n",
       "      background-color: #3B4455;\n",
       "      fill: #D2E3FC;\n",
       "    }\n",
       "\n",
       "    [theme=dark] .colab-df-convert:hover {\n",
       "      background-color: #434B5C;\n",
       "      box-shadow: 0px 1px 3px 1px rgba(0, 0, 0, 0.15);\n",
       "      filter: drop-shadow(0px 1px 2px rgba(0, 0, 0, 0.3));\n",
       "      fill: #FFFFFF;\n",
       "    }\n",
       "  </style>\n",
       "\n",
       "    <script>\n",
       "      const buttonEl =\n",
       "        document.querySelector('#df-6b550bd0-272d-4321-9232-66cda5a69f82 button.colab-df-convert');\n",
       "      buttonEl.style.display =\n",
       "        google.colab.kernel.accessAllowed ? 'block' : 'none';\n",
       "\n",
       "      async function convertToInteractive(key) {\n",
       "        const element = document.querySelector('#df-6b550bd0-272d-4321-9232-66cda5a69f82');\n",
       "        const dataTable =\n",
       "          await google.colab.kernel.invokeFunction('convertToInteractive',\n",
       "                                                    [key], {});\n",
       "        if (!dataTable) return;\n",
       "\n",
       "        const docLinkHtml = 'Like what you see? Visit the ' +\n",
       "          '<a target=\"_blank\" href=https://colab.research.google.com/notebooks/data_table.ipynb>data table notebook</a>'\n",
       "          + ' to learn more about interactive tables.';\n",
       "        element.innerHTML = '';\n",
       "        dataTable['output_type'] = 'display_data';\n",
       "        await google.colab.output.renderOutput(dataTable, element);\n",
       "        const docLink = document.createElement('div');\n",
       "        docLink.innerHTML = docLinkHtml;\n",
       "        element.appendChild(docLink);\n",
       "      }\n",
       "    </script>\n",
       "  </div>\n",
       "\n",
       "\n",
       "<div id=\"df-ae3e2d7b-da43-47df-8799-68078a12c8a6\">\n",
       "  <button class=\"colab-df-quickchart\" onclick=\"quickchart('df-ae3e2d7b-da43-47df-8799-68078a12c8a6')\"\n",
       "            title=\"Suggest charts\"\n",
       "            style=\"display:none;\">\n",
       "\n",
       "<svg xmlns=\"http://www.w3.org/2000/svg\" height=\"24px\"viewBox=\"0 0 24 24\"\n",
       "     width=\"24px\">\n",
       "    <g>\n",
       "        <path d=\"M19 3H5c-1.1 0-2 .9-2 2v14c0 1.1.9 2 2 2h14c1.1 0 2-.9 2-2V5c0-1.1-.9-2-2-2zM9 17H7v-7h2v7zm4 0h-2V7h2v10zm4 0h-2v-4h2v4z\"/>\n",
       "    </g>\n",
       "</svg>\n",
       "  </button>\n",
       "\n",
       "<style>\n",
       "  .colab-df-quickchart {\n",
       "      --bg-color: #E8F0FE;\n",
       "      --fill-color: #1967D2;\n",
       "      --hover-bg-color: #E2EBFA;\n",
       "      --hover-fill-color: #174EA6;\n",
       "      --disabled-fill-color: #AAA;\n",
       "      --disabled-bg-color: #DDD;\n",
       "  }\n",
       "\n",
       "  [theme=dark] .colab-df-quickchart {\n",
       "      --bg-color: #3B4455;\n",
       "      --fill-color: #D2E3FC;\n",
       "      --hover-bg-color: #434B5C;\n",
       "      --hover-fill-color: #FFFFFF;\n",
       "      --disabled-bg-color: #3B4455;\n",
       "      --disabled-fill-color: #666;\n",
       "  }\n",
       "\n",
       "  .colab-df-quickchart {\n",
       "    background-color: var(--bg-color);\n",
       "    border: none;\n",
       "    border-radius: 50%;\n",
       "    cursor: pointer;\n",
       "    display: none;\n",
       "    fill: var(--fill-color);\n",
       "    height: 32px;\n",
       "    padding: 0;\n",
       "    width: 32px;\n",
       "  }\n",
       "\n",
       "  .colab-df-quickchart:hover {\n",
       "    background-color: var(--hover-bg-color);\n",
       "    box-shadow: 0 1px 2px rgba(60, 64, 67, 0.3), 0 1px 3px 1px rgba(60, 64, 67, 0.15);\n",
       "    fill: var(--button-hover-fill-color);\n",
       "  }\n",
       "\n",
       "  .colab-df-quickchart-complete:disabled,\n",
       "  .colab-df-quickchart-complete:disabled:hover {\n",
       "    background-color: var(--disabled-bg-color);\n",
       "    fill: var(--disabled-fill-color);\n",
       "    box-shadow: none;\n",
       "  }\n",
       "\n",
       "  .colab-df-spinner {\n",
       "    border: 2px solid var(--fill-color);\n",
       "    border-color: transparent;\n",
       "    border-bottom-color: var(--fill-color);\n",
       "    animation:\n",
       "      spin 1s steps(1) infinite;\n",
       "  }\n",
       "\n",
       "  @keyframes spin {\n",
       "    0% {\n",
       "      border-color: transparent;\n",
       "      border-bottom-color: var(--fill-color);\n",
       "      border-left-color: var(--fill-color);\n",
       "    }\n",
       "    20% {\n",
       "      border-color: transparent;\n",
       "      border-left-color: var(--fill-color);\n",
       "      border-top-color: var(--fill-color);\n",
       "    }\n",
       "    30% {\n",
       "      border-color: transparent;\n",
       "      border-left-color: var(--fill-color);\n",
       "      border-top-color: var(--fill-color);\n",
       "      border-right-color: var(--fill-color);\n",
       "    }\n",
       "    40% {\n",
       "      border-color: transparent;\n",
       "      border-right-color: var(--fill-color);\n",
       "      border-top-color: var(--fill-color);\n",
       "    }\n",
       "    60% {\n",
       "      border-color: transparent;\n",
       "      border-right-color: var(--fill-color);\n",
       "    }\n",
       "    80% {\n",
       "      border-color: transparent;\n",
       "      border-right-color: var(--fill-color);\n",
       "      border-bottom-color: var(--fill-color);\n",
       "    }\n",
       "    90% {\n",
       "      border-color: transparent;\n",
       "      border-bottom-color: var(--fill-color);\n",
       "    }\n",
       "  }\n",
       "</style>\n",
       "\n",
       "  <script>\n",
       "    async function quickchart(key) {\n",
       "      const quickchartButtonEl =\n",
       "        document.querySelector('#' + key + ' button');\n",
       "      quickchartButtonEl.disabled = true;  // To prevent multiple clicks.\n",
       "      quickchartButtonEl.classList.add('colab-df-spinner');\n",
       "      try {\n",
       "        const charts = await google.colab.kernel.invokeFunction(\n",
       "            'suggestCharts', [key], {});\n",
       "      } catch (error) {\n",
       "        console.error('Error during call to suggestCharts:', error);\n",
       "      }\n",
       "      quickchartButtonEl.classList.remove('colab-df-spinner');\n",
       "      quickchartButtonEl.classList.add('colab-df-quickchart-complete');\n",
       "    }\n",
       "    (() => {\n",
       "      let quickchartButtonEl =\n",
       "        document.querySelector('#df-ae3e2d7b-da43-47df-8799-68078a12c8a6 button');\n",
       "      quickchartButtonEl.style.display =\n",
       "        google.colab.kernel.accessAllowed ? 'block' : 'none';\n",
       "    })();\n",
       "  </script>\n",
       "</div>\n",
       "    </div>\n",
       "  </div>\n"
      ],
      "text/plain": [
       "   Unnamed: 0                                              tweet  sarcastic  \\\n",
       "0           0  The only thing I got from college is a caffein...          1   \n",
       "1           1  I love it when professors draw a big question ...          1   \n",
       "2           2  Remember the hundred emails from companies whe...          1   \n",
       "3           3  Today my pop-pop told me I was not “forced” to...          1   \n",
       "4           4  @VolphanCarol @littlewhitty @mysticalmanatee I...          1   \n",
       "\n",
       "                                            rephrase  sarcasm  irony  satire  \\\n",
       "0  College is really difficult, expensive, tiring...      0.0    1.0     0.0   \n",
       "1  I do not like when professors don’t write out ...      1.0    0.0     0.0   \n",
       "2  I, at the bare minimum, wish companies actuall...      0.0    1.0     0.0   \n",
       "3  Today my pop-pop told me I was not \"forced\" to...      1.0    0.0     0.0   \n",
       "4  I would say Ted Cruz is an asshole and doesn’t...      1.0    0.0     0.0   \n",
       "\n",
       "   understatement  overstatement  rhetorical_question  \n",
       "0             0.0            0.0                  0.0  \n",
       "1             0.0            0.0                  0.0  \n",
       "2             0.0            0.0                  0.0  \n",
       "3             0.0            0.0                  0.0  \n",
       "4             0.0            0.0                  0.0  "
      ]
     },
     "execution_count": 1,
     "metadata": {},
     "output_type": "execute_result"
    }
   ],
   "source": [
    "import pandas as pd\n",
    "\n",
    "train_df = pd.read_csv('train.En.csv')\n",
    "\n",
    "train_df.head()"
   ]
  },
  {
   "cell_type": "code",
   "execution_count": 2,
   "metadata": {
    "colab": {
     "base_uri": "https://localhost:8080/"
    },
    "id": "ARaqKgKGEMD-",
    "outputId": "fcbd9bca-bb2f-4677-8ee6-60f4a25802e2"
   },
   "outputs": [
    {
     "data": {
      "text/plain": [
       "0    2601\n",
       "1     867\n",
       "Name: sarcastic, dtype: int64"
      ]
     },
     "execution_count": 2,
     "metadata": {},
     "output_type": "execute_result"
    }
   ],
   "source": [
    "train_df['sarcastic'].value_counts()"
   ]
  },
  {
   "cell_type": "code",
   "execution_count": 3,
   "metadata": {
    "colab": {
     "base_uri": "https://localhost:8080/"
    },
    "id": "GOjpYUJvJt4E",
    "outputId": "f79818fa-2c46-44ef-fc39-7dc88fe3ef02"
   },
   "outputs": [
    {
     "name": "stdout",
     "output_type": "stream",
     "text": [
      "glove.6B.zip        100%[===================>] 822.24M  5.03MB/s    in 2m 40s  \n",
      "\n",
      "2024-03-27 00:13:22 (5.14 MB/s) - ‘glove.6B.zip’ saved [862182613/862182613]\n",
      "\n",
      "Archive:  glove.6B.zip\n",
      "  inflating: glove.6B.50d.txt        \n",
      "  inflating: glove.6B.100d.txt       \n",
      "  inflating: glove.6B.200d.txt       \n",
      "  inflating: glove.6B.300d.txt       \n"
     ]
    }
   ],
   "source": [
    "!wget http://downloads.cs.stanford.edu/nlp/data/glove.6B.zip\n",
    "!unzip glove.6B.zip #shows the different embeddings downloaded from glove, using 50 dimensional word embeddings for this project"
   ]
  },
  {
   "cell_type": "code",
   "execution_count": 4,
   "metadata": {
    "id": "JZTIMRcpEfYD"
   },
   "outputs": [],
   "source": [
    "#creating a dictionary and adding the glove embeddings\n",
    "import numpy as np\n",
    "words = dict()\n",
    "\n",
    "def add_to_dict(d, filename):\n",
    "    with open(filename, 'r') as f:\n",
    "        for line in f.readlines():\n",
    "            line = line.split(' ')\n",
    "\n",
    "            try:\n",
    "                d[line[0]] = np.array(line[1:], dtype=float) # separates word [line[0]] from its embeddings [line[1:]]\n",
    "            except:\n",
    "                continue\n",
    "add_to_dict(words, 'glove.6B.50d.txt')"
   ]
  },
  {
   "cell_type": "code",
   "execution_count": 5,
   "metadata": {
    "colab": {
     "base_uri": "https://localhost:8080/"
    },
    "id": "PdCx-X9zE9ZE",
    "outputId": "ef3aa03c-5a3f-47bc-f4f0-755ce513f94f"
   },
   "outputs": [
    {
     "name": "stdout",
     "output_type": "stream",
     "text": [
      "Collecting emoji\n",
      "  Downloading emoji-2.11.0-py2.py3-none-any.whl (433 kB)\n",
      "\u001b[?25l     \u001b[90m━━━━━━━━━━━━━━━━━━━━━━━━━━━━━━━━━━━━━━━━\u001b[0m \u001b[32m0.0/433.8 kB\u001b[0m \u001b[31m?\u001b[0m eta \u001b[36m-:--:--\u001b[0m\r",
      "\u001b[2K     \u001b[91m━━━━━━━━━━━━━━━━━━━━━━━━━━━━━━━━━\u001b[0m\u001b[91m╸\u001b[0m\u001b[90m━━━━━━\u001b[0m \u001b[32m368.6/433.8 kB\u001b[0m \u001b[31m11.0 MB/s\u001b[0m eta \u001b[36m0:00:01\u001b[0m\r",
      "\u001b[2K     \u001b[90m━━━━━━━━━━━━━━━━━━━━━━━━━━━━━━━━━━━━━━━━\u001b[0m \u001b[32m433.8/433.8 kB\u001b[0m \u001b[31m9.6 MB/s\u001b[0m eta \u001b[36m0:00:00\u001b[0m\n",
      "\u001b[?25hInstalling collected packages: emoji\n",
      "Successfully installed emoji-2.11.0\n"
     ]
    }
   ],
   "source": [
    "!pip install emoji"
   ]
  },
  {
   "cell_type": "code",
   "execution_count": 6,
   "metadata": {
    "colab": {
     "base_uri": "https://localhost:8080/"
    },
    "id": "8FuJVilVEhZa",
    "outputId": "df5af9ce-157a-4479-b52b-9ebfccb687e4"
   },
   "outputs": [
    {
     "name": "stderr",
     "output_type": "stream",
     "text": [
      "[nltk_data] Downloading package wordnet to /root/nltk_data...\n"
     ]
    }
   ],
   "source": [
    "import nltk\n",
    "import re\n",
    "from nltk.stem import WordNetLemmatizer\n",
    "from nltk.tokenize import TweetTokenizer\n",
    "import emoji\n",
    "nltk.download('wordnet') # for nlp tasks\n",
    "#Preporcess, tokenize and create embeddings\n",
    "# Load the NLTK tokenizer\n",
    "tokenizer =  TweetTokenizer()  #nltk.RegexpTokenizer(r\"\\w+\")\n",
    "lemmatizer = WordNetLemmatizer()\n",
    "\n",
    "# Define URL, hashtag, and mention regex patterns\n",
    "url_regex = re.compile(r'http[s]?://(?:[a-zA-Z]|[0-9]|[$-_@.&+]|[!*\\\\(\\\\),]|(?:%[0-9a-fA-F][0-9a-fA-F]))+')\n",
    "hashtag_regex = re.compile(r'#\\S+')\n",
    "mention_regex = re.compile(r'@\\w+')\n",
    "\n",
    "def preprocess_type_II(tweet_text):\n",
    "    if pd.isna(tweet_text) or tweet_text == '':\n",
    "        return tweet_text\n",
    "\n",
    "    # Convert urls to HTTPURL, user handles to @USER token, delete hashtags\n",
    "    tweet_text = url_regex.sub('HTTPURL', tweet_text)\n",
    "    tweet_text = mention_regex.sub('@USER', tweet_text)\n",
    "    tweet_text = hashtag_regex.sub('', tweet_text)\n",
    "\n",
    "    return tweet_text\n",
    "\n",
    "def preprocess_type_III(tweet_text):\n",
    "    if pd.isna(tweet_text) or tweet_text == '':\n",
    "        return tweet_text\n",
    "\n",
    "    # Use function to convert urls to HTTPURL, user handles to @USER token, delete hashtags\n",
    "    tweet_text = preprocess_type_II(tweet_text)\n",
    "\n",
    "    # Replace contractions with full forms\n",
    "    contraction_mapping = {\"isn't\": \"is not\", \"’cause\": \"because\", \"You'd\": \"you would\", \"I’m\": \"I am\",\n",
    "                           \"Couldn't\": \"Could not\", }  # Customize as needed\n",
    "    for contraction, full_form in contraction_mapping.items():\n",
    "        tweet_text = tweet_text.replace(contraction, full_form)\n",
    "\n",
    "    # Convert emotion icons to their string text\n",
    "    tweet_text = emoji.demojize(tweet_text)\n",
    "\n",
    "    return tweet_text\n"
   ]
  },
  {
   "cell_type": "code",
   "execution_count": 7,
   "metadata": {
    "id": "OmCplN1kE7s_"
   },
   "outputs": [],
   "source": [
    "def message_to_token_list(s, preprocess_func=preprocess_type_III):\n",
    "    # Apply preprocessing\n",
    "    s = preprocess_func(s)\n",
    "    s = str(s)\n",
    "    s = s.replace(\"&amp;\", \"&\")  # Replace HTML\n",
    "\n",
    "    # Tokenize the preprocessed text\n",
    "    tokens = tokenizer.tokenize(s)\n",
    "    lowercased_tokens = [t.lower() for t in tokens]\n",
    "    lemmatized_tokens = [lemmatizer.lemmatize(t) for t in lowercased_tokens]\n",
    "    useful_tokens = [t for t in lemmatized_tokens if t in words]\n",
    "\n",
    "    return useful_tokens"
   ]
  },
  {
   "cell_type": "code",
   "execution_count": 8,
   "metadata": {
    "id": "y8GJ84iaEjzG"
   },
   "outputs": [],
   "source": [
    "def message_to_word_vectors(message, word_dict=words):\n",
    "\n",
    "    processed_list_of_tokens = message_to_token_list(message) #preprocessing and tokenization step\n",
    "\n",
    "    vectors = [] # initialize empty array\n",
    "\n",
    "    for token in processed_list_of_tokens:\n",
    "\n",
    "        if token not in word_dict: #word embedding dictionary\n",
    "            continue\n",
    "\n",
    "        token_vector = word_dict[token] #whatever word we saw there get its corresponding vector\n",
    "        vectors.append(token_vector)\n",
    "\n",
    "\n",
    "    return np.array(vectors, dtype=float)"
   ]
  },
  {
   "cell_type": "code",
   "execution_count": 9,
   "metadata": {
    "colab": {
     "base_uri": "https://localhost:8080/"
    },
    "id": "EPr5jJ_aE4TS",
    "outputId": "2d7bf3d4-0f0c-4a5a-df84-1c9a5450ec6b"
   },
   "outputs": [
    {
     "data": {
      "text/plain": [
       "(2427, 520, 521)"
      ]
     },
     "execution_count": 9,
     "metadata": {},
     "output_type": "execute_result"
    }
   ],
   "source": [
    "#splitting the training data into train, validation and test dataframes\n",
    "train_df = train_df.sample(frac=1, random_state=1)\n",
    "train_df.reset_index(drop=True, inplace=True)\n",
    "\n",
    "split_index_1 = int(len(train_df) * 0.7)\n",
    "split_index_2 = int(len(train_df) * 0.85)\n",
    "\n",
    "train_df, val_df, test_df = train_df[:split_index_1], train_df[split_index_1:split_index_2], train_df[split_index_2:]\n",
    "\n",
    "len(train_df), len(val_df), len(test_df)"
   ]
  },
  {
   "cell_type": "code",
   "execution_count": 10,
   "metadata": {
    "id": "jnJz4Nl-FgdC"
   },
   "outputs": [],
   "source": [
    "#x inputs and y is outputs\n",
    "def df_to_X_y(dff):\n",
    "    y = dff['sarcastic'].to_numpy().astype(int)\n",
    "    \n",
    "    all_word_vector_sequences = []#inputs\n",
    "    \n",
    "    for message in dff['tweet']:\n",
    "        message_as_vector_seq = message_to_word_vectors(message)\n",
    "        \n",
    "        if message_as_vector_seq.shape[0] == 0:\n",
    "            message_as_vector_seq = np.zeros(shape=(1, 50))\n",
    "            \n",
    "        all_word_vector_sequences.append(message_as_vector_seq) # diff num of tokens in each message\n",
    "\n",
    "    return all_word_vector_sequences, y"
   ]
  },
  {
   "cell_type": "code",
   "execution_count": 11,
   "metadata": {
    "colab": {
     "base_uri": "https://localhost:8080/"
    },
    "id": "ed9zUWPEFxdq",
    "outputId": "d91c8a30-574d-44f1-9232-d6937ff3c234"
   },
   "outputs": [
    {
     "name": "stdout",
     "output_type": "stream",
     "text": [
      "2427 32\n"
     ]
    }
   ],
   "source": [
    "X_train, y_train = df_to_X_y(train_df)\n",
    "\n",
    "print(len(X_train), len(X_train[1])) #highlights different sequences length"
   ]
  },
  {
   "cell_type": "code",
   "execution_count": 12,
   "metadata": {
    "colab": {
     "base_uri": "https://localhost:8080/",
     "height": 591
    },
    "id": "uCjcw9jMFy2q",
    "outputId": "901a8972-cc33-40e2-aebc-228d6a22cb62"
   },
   "outputs": [
    {
     "data": {
      "text/plain": [
       "count    2427.000000\n",
       "mean       20.196951\n",
       "std        12.493030\n",
       "min         1.000000\n",
       "25%        11.000000\n",
       "50%        18.000000\n",
       "75%        26.000000\n",
       "max        72.000000\n",
       "dtype: float64"
      ]
     },
     "execution_count": 12,
     "metadata": {},
     "output_type": "execute_result"
    },
    {
     "data": {
      "image/png": "[encoded data removed]",
      "text/plain": [
       "<Figure size 640x480 with 1 Axes>"
      ]
     },
     "metadata": {},
     "output_type": "display_data"
    }
   ],
   "source": [
    "#data analysis-use to find the max sequence length for padding purposes\n",
    "\n",
    "sequence_lengths = []\n",
    "\n",
    "for i in range(len(X_train)):\n",
    "    sequence_lengths.append(len(X_train[i]))\n",
    "\n",
    "import matplotlib.pyplot as plt\n",
    "\n",
    "plt.hist(sequence_lengths)\n",
    "pd.Series(sequence_lengths).describe()"
   ]
  },
  {
   "cell_type": "code",
   "execution_count": 13,
   "metadata": {
    "id": "yz4qhwWeF7Yq"
   },
   "outputs": [],
   "source": [
    "#max=72\n",
    "#you look for the max tokens count to make numoy array\n",
    "#we need sequence length to be the same\n",
    "#make all the maximum\n",
    "#zero padding\n",
    "from copy import deepcopy\n",
    "\n",
    "def pad_X(X, desired_sequence_length=73):#set to max\n",
    "    X_copy = deepcopy(X)\n",
    "\n",
    "    for i, x in enumerate(X):\n",
    "        x_seq_len = x.shape[0]\n",
    "        sequence_length_difference = desired_sequence_length - x_seq_len\n",
    "#ading the pads # 50 is the glove\n",
    "        pad = np.zeros(shape=(sequence_length_difference, 50)) #50 cause glove\n",
    "\n",
    "        X_copy[i] = np.concatenate([x, pad]) #pad zeros at end\n",
    "\n",
    "    return np.array(X_copy).astype(float)"
   ]
  },
  {
   "cell_type": "code",
   "execution_count": 24,
   "metadata": {
    "colab": {
     "base_uri": "https://localhost:8080/"
    },
    "id": "3YYJI7QlGOOu",
    "outputId": "1466878c-388c-43b3-ba6d-a6480ab0d538"
   },
   "outputs": [
    {
     "data": {
      "text/plain": [
       "((521, 73, 50), (521,))"
      ]
     },
     "execution_count": 24,
     "metadata": {},
     "output_type": "execute_result"
    }
   ],
   "source": [
    "X_train = pad_X(X_train)\n",
    "X_train.shape, y_train.shape\n",
    "X_val, y_val = df_to_X_y(val_df)\n",
    "X_val = pad_X(X_val)\n",
    "X_val.shape, y_val.shape\n",
    "X_test, y_test = df_to_X_y(test_df)\n",
    "X_test = pad_X(X_test)\n",
    "X_test.shape, y_test.shape"
   ]
  },
  {
   "cell_type": "code",
   "execution_count": 25,
   "metadata": {
    "id": "6pAoKIO4GOgj"
   },
   "outputs": [],
   "source": [
    "from tensorflow.keras import layers\n",
    "from tensorflow.keras.models import Sequential"
   ]
  },
  {
   "cell_type": "code",
   "execution_count": 26,
   "metadata": {
    "id": "lgOUIVGKI3St"
   },
   "outputs": [],
   "source": [
    "import tensorflow as tf"
   ]
  },
  {
   "cell_type": "code",
   "execution_count": 27,
   "metadata": {
    "id": "ThdALGKXHJ1F"
   },
   "outputs": [],
   "source": [
    "model = Sequential([\n",
    "    #layers.Embedding(73, 50),\n",
    "    layers.Input(shape=(73, 50)),\n",
    "    layers.Bidirectional(layers.LSTM(32, return_sequences=True)),\n",
    "    layers.TimeDistributed(layers.Dense(64, activation='relu')),\n",
    "    layers.Bidirectional(layers.LSTM(32, return_sequences=True)),\n",
    "    layers.TimeDistributed(layers.Dense(64, activation='relu')),\n",
    "    layers.Bidirectional(layers.LSTM(32)),\n",
    "    #layers.Flatten(),\n",
    "    layers.Dense(8, activation='relu'),\n",
    "    layers.Dense(1, activation='sigmoid')\n",
    "])"
   ]
  },
  {
   "cell_type": "code",
   "execution_count": 28,
   "metadata": {
    "colab": {
     "base_uri": "https://localhost:8080/"
    },
    "id": "dU1wzxlXM9Om",
    "outputId": "f5bb758a-7a14-468d-995f-39a6d42ecc92"
   },
   "outputs": [
    {
     "name": "stdout",
     "output_type": "stream",
     "text": [
      "Model: \"sequential_1\"\n",
      "_________________________________________________________________\n",
      " Layer (type)                Output Shape              Param #   \n",
      "=================================================================\n",
      " bidirectional_3 (Bidirecti  (None, 73, 64)            21248     \n",
      " onal)                                                           \n",
      "                                                                 \n",
      " time_distributed_2 (TimeDi  (None, 73, 64)            4160      \n",
      " stributed)                                                      \n",
      "                                                                 \n",
      " bidirectional_4 (Bidirecti  (None, 73, 64)            24832     \n",
      " onal)                                                           \n",
      "                                                                 \n",
      " time_distributed_3 (TimeDi  (None, 73, 64)            4160      \n",
      " stributed)                                                      \n",
      "                                                                 \n",
      " bidirectional_5 (Bidirecti  (None, 64)                24832     \n",
      " onal)                                                           \n",
      "                                                                 \n",
      " dense_6 (Dense)             (None, 8)                 520       \n",
      "                                                                 \n",
      " dense_7 (Dense)             (None, 1)                 9         \n",
      "                                                                 \n",
      "=================================================================\n",
      "Total params: 79761 (311.57 KB)\n",
      "Trainable params: 79761 (311.57 KB)\n",
      "Non-trainable params: 0 (0.00 Byte)\n",
      "_________________________________________________________________\n"
     ]
    }
   ],
   "source": [
    "model.summary()"
   ]
  },
  {
   "cell_type": "code",
   "execution_count": 29,
   "metadata": {
    "id": "-GRJxj1-GOnz"
   },
   "outputs": [],
   "source": [
    "from tensorflow.keras.losses import BinaryCrossentropy\n",
    "from tensorflow.keras.optimizers import Adam\n",
    "from tensorflow.keras.metrics import AUC\n",
    "from tensorflow.keras.callbacks import ModelCheckpoint\n",
    "\n",
    "cp = ModelCheckpoint('model/', save_best_only=True)\n",
    "\n",
    "model.compile(optimizer=Adam(learning_rate=0.0001),\n",
    "              loss=BinaryCrossentropy(),\n",
    "              metrics=['accuracy', AUC(name='auc')])"
   ]
  },
  {
   "cell_type": "code",
   "execution_count": 30,
   "metadata": {
    "colab": {
     "base_uri": "https://localhost:8080/"
    },
    "id": "HgLl6DWEGOq-",
    "outputId": "51cce4f9-e4bb-4ad9-9c43-bf2290c6461b"
   },
   "outputs": [
    {
     "data": {
      "text/plain": [
       "0    1823\n",
       "1     604\n",
       "Name: sarcastic, dtype: int64"
      ]
     },
     "execution_count": 30,
     "metadata": {},
     "output_type": "execute_result"
    }
   ],
   "source": [
    "frequencies = pd.value_counts(train_df['sarcastic'])\n",
    "\n",
    "frequencies"
   ]
  },
  {
   "cell_type": "code",
   "execution_count": 31,
   "metadata": {
    "colab": {
     "base_uri": "https://localhost:8080/"
    },
    "id": "cip_72LFGOun",
    "outputId": "33739bc2-c28c-4082-a5de-152e5e2eaeb1"
   },
   "outputs": [
    {
     "data": {
      "text/plain": [
       "{0: 1.331321996708722, 1: 4.018211920529802}"
      ]
     },
     "execution_count": 31,
     "metadata": {},
     "output_type": "execute_result"
    }
   ],
   "source": [
    "#initalize weights using frequencies to help with the imbalanced dataset\n",
    "#1 for non sarcastic and 4 for sarcastic- give more weight to sarcastic\n",
    "weights = {0: frequencies.sum() / frequencies[0], 1: frequencies.sum() / frequencies[1]}\n",
    "weights"
   ]
  },
  {
   "cell_type": "code",
   "execution_count": 32,
   "metadata": {
    "colab": {
     "base_uri": "https://localhost:8080/"
    },
    "id": "1d6Znog9GOyG",
    "outputId": "9f2271b1-d457-4d33-e910-27f5dfda4769"
   },
   "outputs": [
    {
     "name": "stdout",
     "output_type": "stream",
     "text": [
      "Epoch 1/20\n",
      "76/76 [==============================] - 56s 583ms/step - loss: 1.3869 - accuracy: 0.3890 - auc: 0.4874 - val_loss: 0.6943 - val_accuracy: 0.4192 - val_auc: 0.5067\n",
      "Epoch 2/20\n",
      "76/76 [==============================] - 9s 121ms/step - loss: 1.3854 - accuracy: 0.3729 - auc: 0.5214 - val_loss: 0.6972 - val_accuracy: 0.3462 - val_auc: 0.5423\n",
      "Epoch 3/20\n",
      "76/76 [==============================] - 13s 169ms/step - loss: 1.3839 - accuracy: 0.5332 - auc: 0.5368 - val_loss: 0.6964 - val_accuracy: 0.4000 - val_auc: 0.5513\n",
      "Epoch 4/20\n",
      "76/76 [==============================] - 42s 563ms/step - loss: 1.3811 - accuracy: 0.4297 - auc: 0.5580 - val_loss: 0.6723 - val_accuracy: 0.7288 - val_auc: 0.5609\n",
      "Epoch 5/20\n",
      "76/76 [==============================] - 10s 136ms/step - loss: 1.3773 - accuracy: 0.5402 - auc: 0.5678 - val_loss: 0.6744 - val_accuracy: 0.6750 - val_auc: 0.5617\n",
      "Epoch 6/20\n",
      "76/76 [==============================] - 47s 627ms/step - loss: 1.3702 - accuracy: 0.5019 - auc: 0.5915 - val_loss: 0.6625 - val_accuracy: 0.6962 - val_auc: 0.5694\n",
      "Epoch 7/20\n",
      "76/76 [==============================] - 13s 170ms/step - loss: 1.3658 - accuracy: 0.5517 - auc: 0.5891 - val_loss: 0.6905 - val_accuracy: 0.5096 - val_auc: 0.5617\n",
      "Epoch 8/20\n",
      "76/76 [==============================] - 8s 100ms/step - loss: 1.3546 - accuracy: 0.5933 - auc: 0.6083 - val_loss: 0.7243 - val_accuracy: 0.4154 - val_auc: 0.5563\n",
      "Epoch 9/20\n",
      "76/76 [==============================] - 42s 559ms/step - loss: 1.3454 - accuracy: 0.5624 - auc: 0.6199 - val_loss: 0.6448 - val_accuracy: 0.6769 - val_auc: 0.5697\n",
      "Epoch 10/20\n",
      "76/76 [==============================] - 11s 141ms/step - loss: 1.3308 - accuracy: 0.6090 - auc: 0.6365 - val_loss: 0.6928 - val_accuracy: 0.5077 - val_auc: 0.5712\n",
      "Epoch 11/20\n",
      "76/76 [==============================] - 9s 120ms/step - loss: 1.3147 - accuracy: 0.6086 - auc: 0.6533 - val_loss: 0.6514 - val_accuracy: 0.6250 - val_auc: 0.5739\n",
      "Epoch 12/20\n",
      "76/76 [==============================] - 45s 604ms/step - loss: 1.3038 - accuracy: 0.6007 - auc: 0.6602 - val_loss: 0.6177 - val_accuracy: 0.6788 - val_auc: 0.5798\n",
      "Epoch 13/20\n",
      "76/76 [==============================] - 11s 150ms/step - loss: 1.2874 - accuracy: 0.6180 - auc: 0.6741 - val_loss: 0.6417 - val_accuracy: 0.6212 - val_auc: 0.5801\n",
      "Epoch 14/20\n",
      "76/76 [==============================] - 9s 122ms/step - loss: 1.2735 - accuracy: 0.6308 - auc: 0.6917 - val_loss: 0.6577 - val_accuracy: 0.5904 - val_auc: 0.5721\n",
      "Epoch 15/20\n",
      "76/76 [==============================] - 10s 129ms/step - loss: 1.2649 - accuracy: 0.6436 - auc: 0.6942 - val_loss: 0.7542 - val_accuracy: 0.4769 - val_auc: 0.5662\n",
      "Epoch 16/20\n",
      "76/76 [==============================] - 10s 134ms/step - loss: 1.2532 - accuracy: 0.6316 - auc: 0.7026 - val_loss: 0.6753 - val_accuracy: 0.5654 - val_auc: 0.5760\n",
      "Epoch 17/20\n",
      "76/76 [==============================] - 9s 115ms/step - loss: 1.2347 - accuracy: 0.6481 - auc: 0.7163 - val_loss: 0.6296 - val_accuracy: 0.6500 - val_auc: 0.5729\n",
      "Epoch 18/20\n",
      "76/76 [==============================] - 12s 157ms/step - loss: 1.2260 - accuracy: 0.6671 - auc: 0.7223 - val_loss: 0.6944 - val_accuracy: 0.5596 - val_auc: 0.5740\n",
      "Epoch 19/20\n",
      "76/76 [==============================] - 8s 101ms/step - loss: 1.2130 - accuracy: 0.6539 - auc: 0.7297 - val_loss: 0.7135 - val_accuracy: 0.5519 - val_auc: 0.5691\n",
      "Epoch 20/20\n",
      "76/76 [==============================] - 13s 177ms/step - loss: 1.1983 - accuracy: 0.6696 - auc: 0.7397 - val_loss: 0.7156 - val_accuracy: 0.5481 - val_auc: 0.5711\n"
     ]
    },
    {
     "data": {
      "text/plain": [
       "<keras.src.callbacks.History at 0x7e707b81ad70>"
      ]
     },
     "execution_count": 32,
     "metadata": {},
     "output_type": "execute_result"
    }
   ],
   "source": [
    "model.fit(X_train, y_train, validation_data=(X_val, y_val), epochs=20, callbacks=[cp], class_weight=weights)"
   ]
  },
  {
   "cell_type": "code",
   "execution_count": 33,
   "metadata": {
    "id": "VCbj_wrdGO4N"
   },
   "outputs": [],
   "source": [
    "from tensorflow.keras.models import load_model\n",
    "\n",
    "best_model = load_model('model/')"
   ]
  },
  {
   "cell_type": "code",
   "execution_count": 34,
   "metadata": {
    "colab": {
     "base_uri": "https://localhost:8080/"
    },
    "id": "s3_FIgXvHxqD",
    "outputId": "f1365336-0d02-4ae0-f593-fbc2f2c76ae4"
   },
   "outputs": [
    {
     "name": "stdout",
     "output_type": "stream",
     "text": [
      "17/17 [==============================] - 3s 40ms/step\n"
     ]
    }
   ],
   "source": [
    "test_predictions = (best_model.predict(X_test) > 0.5).astype(int)\n",
    "\n",
    "from sklearn.metrics import classification_report\n"
   ]
  },
  {
   "cell_type": "code",
   "execution_count": null,
   "metadata": {
    "id": "alRxEiXJHxwz"
   },
   "outputs": [],
   "source": [
    "print(classification_report(y_test, test_predictions))"
   ]
  },
  {
   "cell_type": "code",
   "execution_count": null,
   "metadata": {
    "id": "vSEADC1cHx0B"
   },
   "outputs": [],
   "source": []
  },
  {
   "cell_type": "code",
   "execution_count": null,
   "metadata": {
    "id": "KNw4xEHlHx26"
   },
   "outputs": [],
   "source": []
  },
  {
   "cell_type": "code",
   "execution_count": null,
   "metadata": {
    "id": "UrhvVO0rHx6M"
   },
   "outputs": [],
   "source": []
  }
 ],
 "metadata": {
  "colab": {
   "provenance": []
  },
  "kernelspec": {
   "display_name": "Python 3 (ipykernel)",
   "language": "python",
   "name": "python3"
  },
  "language_info": {
   "codemirror_mode": {
    "name": "ipython",
    "version": 3
   },
   "file_extension": ".py",
   "mimetype": "text/x-python",
   "name": "python",
   "nbconvert_exporter": "python",
   "pygments_lexer": "ipython3",
   "version": "3.10.12"
  }
 },
 "nbformat": 4,
 "nbformat_minor": 1
}
