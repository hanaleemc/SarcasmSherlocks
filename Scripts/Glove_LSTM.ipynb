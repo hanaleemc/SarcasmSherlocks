{
  "nbformat": 4,
  "nbformat_minor": 0,
  "metadata": {
    "colab": {
      "provenance": []
    },
    "kernelspec": {
      "name": "python3",
      "display_name": "Python 3"
    },
    "language_info": {
      "name": "python"
    }
  },
  "cells": [
    {
      "cell_type": "code",
      "execution_count": 1,
      "metadata": {
        "colab": {
          "base_uri": "https://localhost:8080/",
          "height": 642
        },
        "id": "mmgyItq1RR5N",
        "outputId": "7552a2e8-501c-483d-c559-1a24e650bff6"
      },
      "outputs": [
        {
          "output_type": "execute_result",
          "data": {
            "text/plain": [
              "   Unnamed: 0                                              tweet  sarcastic  \\\n",
              "0           0  The only thing I got from college is a caffein...          1   \n",
              "1           1  I love it when professors draw a big question ...          1   \n",
              "2           2  Remember the hundred emails from companies whe...          1   \n",
              "3           3  Today my pop-pop told me I was not “forced” to...          1   \n",
              "4           4  @VolphanCarol @littlewhitty @mysticalmanatee I...          1   \n",
              "\n",
              "                                            rephrase  sarcasm  irony  satire  \\\n",
              "0  College is really difficult, expensive, tiring...      0.0    1.0     0.0   \n",
              "1  I do not like when professors don’t write out ...      1.0    0.0     0.0   \n",
              "2  I, at the bare minimum, wish companies actuall...      0.0    1.0     0.0   \n",
              "3  Today my pop-pop told me I was not \"forced\" to...      1.0    0.0     0.0   \n",
              "4  I would say Ted Cruz is an asshole and doesn’t...      1.0    0.0     0.0   \n",
              "\n",
              "   understatement  overstatement  rhetorical_question  \n",
              "0             0.0            0.0                  0.0  \n",
              "1             0.0            0.0                  0.0  \n",
              "2             0.0            0.0                  0.0  \n",
              "3             0.0            0.0                  0.0  \n",
              "4             0.0            0.0                  0.0  "
            ],
            "text/html": [
              "\n",
              "  <div id=\"df-1cb2e776-67fb-4d5e-9397-77bbd23a4a31\" class=\"colab-df-container\">\n",
              "    <div>\n",
              "<style scoped>\n",
              "    .dataframe tbody tr th:only-of-type {\n",
              "        vertical-align: middle;\n",
              "    }\n",
              "\n",
              "    .dataframe tbody tr th {\n",
              "        vertical-align: top;\n",
              "    }\n",
              "\n",
              "    .dataframe thead th {\n",
              "        text-align: right;\n",
              "    }\n",
              "</style>\n",
              "<table border=\"1\" class=\"dataframe\">\n",
              "  <thead>\n",
              "    <tr style=\"text-align: right;\">\n",
              "      <th></th>\n",
              "      <th>Unnamed: 0</th>\n",
              "      <th>tweet</th>\n",
              "      <th>sarcastic</th>\n",
              "      <th>rephrase</th>\n",
              "      <th>sarcasm</th>\n",
              "      <th>irony</th>\n",
              "      <th>satire</th>\n",
              "      <th>understatement</th>\n",
              "      <th>overstatement</th>\n",
              "      <th>rhetorical_question</th>\n",
              "    </tr>\n",
              "  </thead>\n",
              "  <tbody>\n",
              "    <tr>\n",
              "      <th>0</th>\n",
              "      <td>0</td>\n",
              "      <td>The only thing I got from college is a caffein...</td>\n",
              "      <td>1</td>\n",
              "      <td>College is really difficult, expensive, tiring...</td>\n",
              "      <td>0.0</td>\n",
              "      <td>1.0</td>\n",
              "      <td>0.0</td>\n",
              "      <td>0.0</td>\n",
              "      <td>0.0</td>\n",
              "      <td>0.0</td>\n",
              "    </tr>\n",
              "    <tr>\n",
              "      <th>1</th>\n",
              "      <td>1</td>\n",
              "      <td>I love it when professors draw a big question ...</td>\n",
              "      <td>1</td>\n",
              "      <td>I do not like when professors don’t write out ...</td>\n",
              "      <td>1.0</td>\n",
              "      <td>0.0</td>\n",
              "      <td>0.0</td>\n",
              "      <td>0.0</td>\n",
              "      <td>0.0</td>\n",
              "      <td>0.0</td>\n",
              "    </tr>\n",
              "    <tr>\n",
              "      <th>2</th>\n",
              "      <td>2</td>\n",
              "      <td>Remember the hundred emails from companies whe...</td>\n",
              "      <td>1</td>\n",
              "      <td>I, at the bare minimum, wish companies actuall...</td>\n",
              "      <td>0.0</td>\n",
              "      <td>1.0</td>\n",
              "      <td>0.0</td>\n",
              "      <td>0.0</td>\n",
              "      <td>0.0</td>\n",
              "      <td>0.0</td>\n",
              "    </tr>\n",
              "    <tr>\n",
              "      <th>3</th>\n",
              "      <td>3</td>\n",
              "      <td>Today my pop-pop told me I was not “forced” to...</td>\n",
              "      <td>1</td>\n",
              "      <td>Today my pop-pop told me I was not \"forced\" to...</td>\n",
              "      <td>1.0</td>\n",
              "      <td>0.0</td>\n",
              "      <td>0.0</td>\n",
              "      <td>0.0</td>\n",
              "      <td>0.0</td>\n",
              "      <td>0.0</td>\n",
              "    </tr>\n",
              "    <tr>\n",
              "      <th>4</th>\n",
              "      <td>4</td>\n",
              "      <td>@VolphanCarol @littlewhitty @mysticalmanatee I...</td>\n",
              "      <td>1</td>\n",
              "      <td>I would say Ted Cruz is an asshole and doesn’t...</td>\n",
              "      <td>1.0</td>\n",
              "      <td>0.0</td>\n",
              "      <td>0.0</td>\n",
              "      <td>0.0</td>\n",
              "      <td>0.0</td>\n",
              "      <td>0.0</td>\n",
              "    </tr>\n",
              "  </tbody>\n",
              "</table>\n",
              "</div>\n",
              "    <div class=\"colab-df-buttons\">\n",
              "\n",
              "  <div class=\"colab-df-container\">\n",
              "    <button class=\"colab-df-convert\" onclick=\"convertToInteractive('df-1cb2e776-67fb-4d5e-9397-77bbd23a4a31')\"\n",
              "            title=\"Convert this dataframe to an interactive table.\"\n",
              "            style=\"display:none;\">\n",
              "\n",
              "  <svg xmlns=\"http://www.w3.org/2000/svg\" height=\"24px\" viewBox=\"0 -960 960 960\">\n",
              "    <path d=\"M120-120v-720h720v720H120Zm60-500h600v-160H180v160Zm220 220h160v-160H400v160Zm0 220h160v-160H400v160ZM180-400h160v-160H180v160Zm440 0h160v-160H620v160ZM180-180h160v-160H180v160Zm440 0h160v-160H620v160Z\"/>\n",
              "  </svg>\n",
              "    </button>\n",
              "\n",
              "  <style>\n",
              "    .colab-df-container {\n",
              "      display:flex;\n",
              "      gap: 12px;\n",
              "    }\n",
              "\n",
              "    .colab-df-convert {\n",
              "      background-color: #E8F0FE;\n",
              "      border: none;\n",
              "      border-radius: 50%;\n",
              "      cursor: pointer;\n",
              "      display: none;\n",
              "      fill: #1967D2;\n",
              "      height: 32px;\n",
              "      padding: 0 0 0 0;\n",
              "      width: 32px;\n",
              "    }\n",
              "\n",
              "    .colab-df-convert:hover {\n",
              "      background-color: #E2EBFA;\n",
              "      box-shadow: 0px 1px 2px rgba(60, 64, 67, 0.3), 0px 1px 3px 1px rgba(60, 64, 67, 0.15);\n",
              "      fill: #174EA6;\n",
              "    }\n",
              "\n",
              "    .colab-df-buttons div {\n",
              "      margin-bottom: 4px;\n",
              "    }\n",
              "\n",
              "    [theme=dark] .colab-df-convert {\n",
              "      background-color: #3B4455;\n",
              "      fill: #D2E3FC;\n",
              "    }\n",
              "\n",
              "    [theme=dark] .colab-df-convert:hover {\n",
              "      background-color: #434B5C;\n",
              "      box-shadow: 0px 1px 3px 1px rgba(0, 0, 0, 0.15);\n",
              "      filter: drop-shadow(0px 1px 2px rgba(0, 0, 0, 0.3));\n",
              "      fill: #FFFFFF;\n",
              "    }\n",
              "  </style>\n",
              "\n",
              "    <script>\n",
              "      const buttonEl =\n",
              "        document.querySelector('#df-1cb2e776-67fb-4d5e-9397-77bbd23a4a31 button.colab-df-convert');\n",
              "      buttonEl.style.display =\n",
              "        google.colab.kernel.accessAllowed ? 'block' : 'none';\n",
              "\n",
              "      async function convertToInteractive(key) {\n",
              "        const element = document.querySelector('#df-1cb2e776-67fb-4d5e-9397-77bbd23a4a31');\n",
              "        const dataTable =\n",
              "          await google.colab.kernel.invokeFunction('convertToInteractive',\n",
              "                                                    [key], {});\n",
              "        if (!dataTable) return;\n",
              "\n",
              "        const docLinkHtml = 'Like what you see? Visit the ' +\n",
              "          '<a target=\"_blank\" href=https://colab.research.google.com/notebooks/data_table.ipynb>data table notebook</a>'\n",
              "          + ' to learn more about interactive tables.';\n",
              "        element.innerHTML = '';\n",
              "        dataTable['output_type'] = 'display_data';\n",
              "        await google.colab.output.renderOutput(dataTable, element);\n",
              "        const docLink = document.createElement('div');\n",
              "        docLink.innerHTML = docLinkHtml;\n",
              "        element.appendChild(docLink);\n",
              "      }\n",
              "    </script>\n",
              "  </div>\n",
              "\n",
              "\n",
              "<div id=\"df-a86f1684-880a-4288-b28d-6e857b2d2549\">\n",
              "  <button class=\"colab-df-quickchart\" onclick=\"quickchart('df-a86f1684-880a-4288-b28d-6e857b2d2549')\"\n",
              "            title=\"Suggest charts\"\n",
              "            style=\"display:none;\">\n",
              "\n",
              "<svg xmlns=\"http://www.w3.org/2000/svg\" height=\"24px\"viewBox=\"0 0 24 24\"\n",
              "     width=\"24px\">\n",
              "    <g>\n",
              "        <path d=\"M19 3H5c-1.1 0-2 .9-2 2v14c0 1.1.9 2 2 2h14c1.1 0 2-.9 2-2V5c0-1.1-.9-2-2-2zM9 17H7v-7h2v7zm4 0h-2V7h2v10zm4 0h-2v-4h2v4z\"/>\n",
              "    </g>\n",
              "</svg>\n",
              "  </button>\n",
              "\n",
              "<style>\n",
              "  .colab-df-quickchart {\n",
              "      --bg-color: #E8F0FE;\n",
              "      --fill-color: #1967D2;\n",
              "      --hover-bg-color: #E2EBFA;\n",
              "      --hover-fill-color: #174EA6;\n",
              "      --disabled-fill-color: #AAA;\n",
              "      --disabled-bg-color: #DDD;\n",
              "  }\n",
              "\n",
              "  [theme=dark] .colab-df-quickchart {\n",
              "      --bg-color: #3B4455;\n",
              "      --fill-color: #D2E3FC;\n",
              "      --hover-bg-color: #434B5C;\n",
              "      --hover-fill-color: #FFFFFF;\n",
              "      --disabled-bg-color: #3B4455;\n",
              "      --disabled-fill-color: #666;\n",
              "  }\n",
              "\n",
              "  .colab-df-quickchart {\n",
              "    background-color: var(--bg-color);\n",
              "    border: none;\n",
              "    border-radius: 50%;\n",
              "    cursor: pointer;\n",
              "    display: none;\n",
              "    fill: var(--fill-color);\n",
              "    height: 32px;\n",
              "    padding: 0;\n",
              "    width: 32px;\n",
              "  }\n",
              "\n",
              "  .colab-df-quickchart:hover {\n",
              "    background-color: var(--hover-bg-color);\n",
              "    box-shadow: 0 1px 2px rgba(60, 64, 67, 0.3), 0 1px 3px 1px rgba(60, 64, 67, 0.15);\n",
              "    fill: var(--button-hover-fill-color);\n",
              "  }\n",
              "\n",
              "  .colab-df-quickchart-complete:disabled,\n",
              "  .colab-df-quickchart-complete:disabled:hover {\n",
              "    background-color: var(--disabled-bg-color);\n",
              "    fill: var(--disabled-fill-color);\n",
              "    box-shadow: none;\n",
              "  }\n",
              "\n",
              "  .colab-df-spinner {\n",
              "    border: 2px solid var(--fill-color);\n",
              "    border-color: transparent;\n",
              "    border-bottom-color: var(--fill-color);\n",
              "    animation:\n",
              "      spin 1s steps(1) infinite;\n",
              "  }\n",
              "\n",
              "  @keyframes spin {\n",
              "    0% {\n",
              "      border-color: transparent;\n",
              "      border-bottom-color: var(--fill-color);\n",
              "      border-left-color: var(--fill-color);\n",
              "    }\n",
              "    20% {\n",
              "      border-color: transparent;\n",
              "      border-left-color: var(--fill-color);\n",
              "      border-top-color: var(--fill-color);\n",
              "    }\n",
              "    30% {\n",
              "      border-color: transparent;\n",
              "      border-left-color: var(--fill-color);\n",
              "      border-top-color: var(--fill-color);\n",
              "      border-right-color: var(--fill-color);\n",
              "    }\n",
              "    40% {\n",
              "      border-color: transparent;\n",
              "      border-right-color: var(--fill-color);\n",
              "      border-top-color: var(--fill-color);\n",
              "    }\n",
              "    60% {\n",
              "      border-color: transparent;\n",
              "      border-right-color: var(--fill-color);\n",
              "    }\n",
              "    80% {\n",
              "      border-color: transparent;\n",
              "      border-right-color: var(--fill-color);\n",
              "      border-bottom-color: var(--fill-color);\n",
              "    }\n",
              "    90% {\n",
              "      border-color: transparent;\n",
              "      border-bottom-color: var(--fill-color);\n",
              "    }\n",
              "  }\n",
              "</style>\n",
              "\n",
              "  <script>\n",
              "    async function quickchart(key) {\n",
              "      const quickchartButtonEl =\n",
              "        document.querySelector('#' + key + ' button');\n",
              "      quickchartButtonEl.disabled = true;  // To prevent multiple clicks.\n",
              "      quickchartButtonEl.classList.add('colab-df-spinner');\n",
              "      try {\n",
              "        const charts = await google.colab.kernel.invokeFunction(\n",
              "            'suggestCharts', [key], {});\n",
              "      } catch (error) {\n",
              "        console.error('Error during call to suggestCharts:', error);\n",
              "      }\n",
              "      quickchartButtonEl.classList.remove('colab-df-spinner');\n",
              "      quickchartButtonEl.classList.add('colab-df-quickchart-complete');\n",
              "    }\n",
              "    (() => {\n",
              "      let quickchartButtonEl =\n",
              "        document.querySelector('#df-a86f1684-880a-4288-b28d-6e857b2d2549 button');\n",
              "      quickchartButtonEl.style.display =\n",
              "        google.colab.kernel.accessAllowed ? 'block' : 'none';\n",
              "    })();\n",
              "  </script>\n",
              "</div>\n",
              "    </div>\n",
              "  </div>\n"
            ],
            "application/vnd.google.colaboratory.intrinsic+json": {
              "type": "dataframe",
              "variable_name": "train_df",
              "summary": "{\n  \"name\": \"train_df\",\n  \"rows\": 3468,\n  \"fields\": [\n    {\n      \"column\": \"Unnamed: 0\",\n      \"properties\": {\n        \"dtype\": \"number\",\n        \"std\": 1001,\n        \"min\": 0,\n        \"max\": 3467,\n        \"num_unique_values\": 3468,\n        \"samples\": [\n          1602,\n          805,\n          864\n        ],\n        \"semantic_type\": \"\",\n        \"description\": \"\"\n      }\n    },\n    {\n      \"column\": \"tweet\",\n      \"properties\": {\n        \"dtype\": \"string\",\n        \"num_unique_values\": 3456,\n        \"samples\": [\n          \"@dave26318632 I don\\u2019t get anywhere near \\u00a3500 a month on UC though. I basically get told \\u201cyou get what you get, and if you don\\u2019t like it you can fuck off and die.\\u201d\\n\\nOne thing\\u2019s for certain, I wouldn\\u2019t cross a puddle for the benefits I\\u2019m on, let alone the Channel.\",\n          \"July 1st. Half way point of the year. Well I think we can all agree that 2020 has gone swimmingly so far. \\nCan\\u2019t wait for part 2. \\n#murderhornets\",\n          \"Wow it\\u2019s almost like we don\\u2019t nap every single day at the exact same time wow how dare I try to do the thing we do every single day!\"\n        ],\n        \"semantic_type\": \"\",\n        \"description\": \"\"\n      }\n    },\n    {\n      \"column\": \"sarcastic\",\n      \"properties\": {\n        \"dtype\": \"number\",\n        \"std\": 0,\n        \"min\": 0,\n        \"max\": 1,\n        \"num_unique_values\": 2,\n        \"samples\": [\n          0,\n          1\n        ],\n        \"semantic_type\": \"\",\n        \"description\": \"\"\n      }\n    },\n    {\n      \"column\": \"rephrase\",\n      \"properties\": {\n        \"dtype\": \"category\",\n        \"num_unique_values\": 865,\n        \"samples\": [\n          \"How will the UK government be changing the Coronavirus restrictions in tonight's briefing?\",\n          \"It is quite obvious that cats do not actually wear nail polish.\"\n        ],\n        \"semantic_type\": \"\",\n        \"description\": \"\"\n      }\n    },\n    {\n      \"column\": \"sarcasm\",\n      \"properties\": {\n        \"dtype\": \"number\",\n        \"std\": 0.3824165072439901,\n        \"min\": 0.0,\n        \"max\": 1.0,\n        \"num_unique_values\": 2,\n        \"samples\": [\n          1.0,\n          0.0\n        ],\n        \"semantic_type\": \"\",\n        \"description\": \"\"\n      }\n    },\n    {\n      \"column\": \"irony\",\n      \"properties\": {\n        \"dtype\": \"number\",\n        \"std\": 0.38338697223747575,\n        \"min\": 0.0,\n        \"max\": 1.0,\n        \"num_unique_values\": 2,\n        \"samples\": [\n          0.0,\n          1.0\n        ],\n        \"semantic_type\": \"\",\n        \"description\": \"\"\n      }\n    },\n    {\n      \"column\": \"satire\",\n      \"properties\": {\n        \"dtype\": \"number\",\n        \"std\": 0.1674393600000276,\n        \"min\": 0.0,\n        \"max\": 1.0,\n        \"num_unique_values\": 2,\n        \"samples\": [\n          1.0,\n          0.0\n        ],\n        \"semantic_type\": \"\",\n        \"description\": \"\"\n      }\n    },\n    {\n      \"column\": \"understatement\",\n      \"properties\": {\n        \"dtype\": \"number\",\n        \"std\": 0.10683705701144951,\n        \"min\": 0.0,\n        \"max\": 1.0,\n        \"num_unique_values\": 2,\n        \"samples\": [\n          1.0,\n          0.0\n        ],\n        \"semantic_type\": \"\",\n        \"description\": \"\"\n      }\n    },\n    {\n      \"column\": \"overstatement\",\n      \"properties\": {\n        \"dtype\": \"number\",\n        \"std\": 0.20990087823453582,\n        \"min\": 0.0,\n        \"max\": 1.0,\n        \"num_unique_values\": 2,\n        \"samples\": [\n          1.0,\n          0.0\n        ],\n        \"semantic_type\": \"\",\n        \"description\": \"\"\n      }\n    },\n    {\n      \"column\": \"rhetorical_question\",\n      \"properties\": {\n        \"dtype\": \"number\",\n        \"std\": 0.32100114162940024,\n        \"min\": 0.0,\n        \"max\": 1.0,\n        \"num_unique_values\": 2,\n        \"samples\": [\n          1.0,\n          0.0\n        ],\n        \"semantic_type\": \"\",\n        \"description\": \"\"\n      }\n    }\n  ]\n}"
            }
          },
          "metadata": {},
          "execution_count": 1
        }
      ],
      "source": [
        "import pandas as pd\n",
        "\n",
        "train_df = pd.read_csv('Train_Dataset.csv')\n",
        "\n",
        "train_df.head()"
      ]
    },
    {
      "cell_type": "code",
      "source": [
        "import numpy as np\n",
        "words = dict()\n",
        "\n",
        "def add_to_dict(d, filename):\n",
        "    with open(filename, 'r') as f:\n",
        "        for line in f.readlines():\n",
        "            line = line.split(' ')\n",
        "\n",
        "            try:\n",
        "                d[line[0]] = np.array(line[1:], dtype=float) # separates word [line[0]] from its embeddings [line[1:]]\n",
        "            except:\n",
        "                continue\n",
        "add_to_dict(words, 'glove.6B.50d.txt')"
      ],
      "metadata": {
        "id": "jbMKzOSTRiYv"
      },
      "execution_count": 2,
      "outputs": []
    },
    {
      "cell_type": "code",
      "source": [
        "!pip install emoji"
      ],
      "metadata": {
        "colab": {
          "base_uri": "https://localhost:8080/"
        },
        "id": "0_g2uUSWRicZ",
        "outputId": "410b262b-23e7-46e1-ffb7-d97c4a2d28fe"
      },
      "execution_count": 3,
      "outputs": [
        {
          "output_type": "stream",
          "name": "stdout",
          "text": [
            "Collecting emoji\n",
            "  Downloading emoji-2.10.1-py2.py3-none-any.whl (421 kB)\n",
            "\u001b[2K     \u001b[90m━━━━━━━━━━━━━━━━━━━━━━━━━━━━━━━━━━━━━━━━\u001b[0m \u001b[32m421.5/421.5 kB\u001b[0m \u001b[31m6.9 MB/s\u001b[0m eta \u001b[36m0:00:00\u001b[0m\n",
            "\u001b[?25hInstalling collected packages: emoji\n",
            "Successfully installed emoji-2.10.1\n"
          ]
        }
      ]
    },
    {
      "cell_type": "code",
      "source": [
        "import nltk\n",
        "import re\n",
        "from nltk.stem import WordNetLemmatizer\n",
        "from nltk.tokenize import TweetTokenizer\n",
        "import emoji\n",
        "nltk.download('wordnet') # for nlp tasks\n",
        "#Preporcess, tokenize and create embeddings\n",
        "# Load the NLTK tokenizer\n",
        "tokenizer =  TweetTokenizer()  #nltk.RegexpTokenizer(r\"\\w+\")\n",
        "lemmatizer = WordNetLemmatizer()\n",
        "\n",
        "# Define URL, hashtag, and mention regex patterns\n",
        "url_regex = re.compile(r'http[s]?://(?:[a-zA-Z]|[0-9]|[$-_@.&+]|[!*\\\\(\\\\),]|(?:%[0-9a-fA-F][0-9a-fA-F]))+')\n",
        "hashtag_regex = re.compile(r'#\\S+')\n",
        "mention_regex = re.compile(r'@\\w+')\n",
        "\n",
        "def preprocess_type_II(tweet_text):\n",
        "    if pd.isna(tweet_text) or tweet_text == '':\n",
        "        return tweet_text\n",
        "\n",
        "    # Convert urls to HTTPURL, user handles to @USER token, delete hashtags\n",
        "    tweet_text = url_regex.sub('HTTPURL', tweet_text)\n",
        "    tweet_text = mention_regex.sub('@USER', tweet_text)\n",
        "    tweet_text = hashtag_regex.sub('', tweet_text)\n",
        "\n",
        "    return tweet_text\n",
        "\n",
        "def preprocess_type_III(tweet_text):\n",
        "    if pd.isna(tweet_text) or tweet_text == '':\n",
        "        return tweet_text\n",
        "\n",
        "    # Use function to convert urls to HTTPURL, user handles to @USER token, delete hashtags\n",
        "    tweet_text = preprocess_type_II(tweet_text)\n",
        "\n",
        "    # Replace contractions with full forms\n",
        "    contraction_mapping = {\"isn't\": \"is not\", \"’cause\": \"because\", \"You'd\": \"you would\", \"I’m\": \"I am\",\n",
        "                           \"Couldn't\": \"Could not\", }  # Customize as needed\n",
        "    for contraction, full_form in contraction_mapping.items():\n",
        "        tweet_text = tweet_text.replace(contraction, full_form)\n",
        "\n",
        "    # Convert emotion icons to their string text\n",
        "    tweet_text = emoji.demojize(tweet_text)\n",
        "\n",
        "    return tweet_text\n"
      ],
      "metadata": {
        "colab": {
          "base_uri": "https://localhost:8080/"
        },
        "id": "IH_ZIs8eRifo",
        "outputId": "c9641b9a-93d1-4a5d-ba6d-7f7da26d9911"
      },
      "execution_count": 4,
      "outputs": [
        {
          "output_type": "stream",
          "name": "stderr",
          "text": [
            "[nltk_data] Downloading package wordnet to /root/nltk_data...\n"
          ]
        }
      ]
    },
    {
      "cell_type": "code",
      "source": [
        "def message_to_token_list(s, preprocess_func=preprocess_type_III):\n",
        "    # Apply preprocessing\n",
        "    s = preprocess_func(s)\n",
        "    s = str(s)  # Ensure s is converted to string\n",
        "    s = s.replace(\"&amp;\", \"&\")  # Replace HTML entities with their corresponding characters\n",
        "\n",
        "    # Tokenize the preprocessed text\n",
        "    tokens = tokenizer.tokenize(s)\n",
        "    lowercased_tokens = [t.lower() for t in tokens]\n",
        "    lemmatized_tokens = [lemmatizer.lemmatize(t) for t in lowercased_tokens]\n",
        "    useful_tokens = [t for t in lemmatized_tokens if t in words]\n",
        "\n",
        "    return useful_tokens\n"
      ],
      "metadata": {
        "id": "rc-R0BJKRim7"
      },
      "execution_count": 5,
      "outputs": []
    },
    {
      "cell_type": "code",
      "source": [
        "def message_to_word_vectors(message, word_dict=words):\n",
        "\n",
        "    processed_list_of_tokens = message_to_token_list(message) #preprocessing and tokenization step\n",
        "\n",
        "    vectors = [] # initialize empty array\n",
        "\n",
        "    for token in processed_list_of_tokens:\n",
        "\n",
        "        if token not in word_dict: #word embedding dictionary\n",
        "            continue\n",
        "\n",
        "        token_vector = word_dict[token] #whatever word we saw there grab its corresponding vector\n",
        "        vectors.append(token_vector)\n",
        "\n",
        "\n",
        "    return np.array(vectors, dtype=float)"
      ],
      "metadata": {
        "id": "FfBOBT5lRipp"
      },
      "execution_count": 6,
      "outputs": []
    },
    {
      "cell_type": "code",
      "source": [
        "train_df = train_df.sample(frac=1, random_state=1)\n",
        "train_df.reset_index(drop=True, inplace=True)\n",
        "\n",
        "split_index_1 = int(len(train_df) * 0.7)\n",
        "split_index_2 = int(len(train_df) * 0.85)\n",
        "\n",
        "train_df, val_df, test_df = train_df[:split_index_1], train_df[split_index_1:split_index_2], train_df[split_index_2:]\n",
        "\n",
        "len(train_df), len(val_df), len(test_df)"
      ],
      "metadata": {
        "colab": {
          "base_uri": "https://localhost:8080/"
        },
        "id": "8FTjpLbfRisF",
        "outputId": "3ddcbf59-605c-4ae1-d0b5-4140aea50431"
      },
      "execution_count": 7,
      "outputs": [
        {
          "output_type": "execute_result",
          "data": {
            "text/plain": [
              "(2427, 520, 521)"
            ]
          },
          "metadata": {},
          "execution_count": 7
        }
      ]
    },
    {
      "cell_type": "code",
      "source": [
        "#x inputs and y is outputs\n",
        "def df_to_X_y(dff):\n",
        "  y = dff['sarcastic'].to_numpy().astype(int)\n",
        "\n",
        "  all_word_vector_sequences = []#inputs\n",
        "\n",
        "  for message in dff['tweet']:\n",
        "    message_as_vector_seq = message_to_word_vectors(message)\n",
        "\n",
        "    if message_as_vector_seq.shape[0] == 0:\n",
        "      message_as_vector_seq = np.zeros(shape=(1, 50))\n",
        "\n",
        "    all_word_vector_sequences.append(message_as_vector_seq) # diff num of tokens in each message\n",
        "\n",
        "  return all_word_vector_sequences, y"
      ],
      "metadata": {
        "id": "G5dPYzLDRiwu"
      },
      "execution_count": 8,
      "outputs": []
    },
    {
      "cell_type": "code",
      "source": [
        "X_train, y_train = df_to_X_y(train_df)\n",
        "\n",
        "print(len(X_train), len(X_train[1])) #highlights different sequences length"
      ],
      "metadata": {
        "colab": {
          "base_uri": "https://localhost:8080/"
        },
        "id": "G8dvbeh0RiyP",
        "outputId": "3015c9e1-baab-449d-a8a8-5dfa14c3f414"
      },
      "execution_count": 9,
      "outputs": [
        {
          "output_type": "stream",
          "name": "stdout",
          "text": [
            "2427 32\n"
          ]
        }
      ]
    },
    {
      "cell_type": "code",
      "source": [
        "#data analysis\n",
        "\n",
        "sequence_lengths = []\n",
        "\n",
        "for i in range(len(X_train)):\n",
        "  sequence_lengths.append(len(X_train[i]))\n",
        "\n",
        "import matplotlib.pyplot as plt\n",
        "\n",
        "plt.hist(sequence_lengths)\n",
        "pd.Series(sequence_lengths).describe()"
      ],
      "metadata": {
        "colab": {
          "base_uri": "https://localhost:8080/",
          "height": 586
        },
        "id": "owEJS3uqRizq",
        "outputId": "72b87c69-1f3c-43ad-8148-fc7149ebdf2d"
      },
      "execution_count": 10,
      "outputs": [
        {
          "output_type": "execute_result",
          "data": {
            "text/plain": [
              "count    2427.000000\n",
              "mean       20.154512\n",
              "std        12.481958\n",
              "min         1.000000\n",
              "25%        11.000000\n",
              "50%        18.000000\n",
              "75%        26.000000\n",
              "max        72.000000\n",
              "dtype: float64"
            ]
          },
          "metadata": {},
          "execution_count": 10
        },
        {
          "output_type": "display_data",
          "data": {
            "text/plain": [
              "<Figure size 640x480 with 1 Axes>"
            ],
            "image/png": "[encoded data removed]"
          },
          "metadata": {}
        }
      ]
    },
    {
      "cell_type": "code",
      "source": [
        "#max=72\n",
        "#you look for the max tokens count to make numoy array\n",
        "#we need sequence length to be the same\n",
        "#make all the maximum\n",
        "#zero padding\n",
        "from copy import deepcopy\n",
        "\n",
        "def pad_X(X, desired_sequence_length=73):#set to max\n",
        "  X_copy = deepcopy(X)\n",
        "\n",
        "  for i, x in enumerate(X):\n",
        "    x_seq_len = x.shape[0]\n",
        "    sequence_length_difference = desired_sequence_length - x_seq_len\n",
        "#ading the pads # 50 is the glove\n",
        "    pad = np.zeros(shape=(sequence_length_difference, 50)) #50 cause glove\n",
        "\n",
        "    X_copy[i] = np.concatenate([x, pad]) #pad zeros at end\n",
        "\n",
        "  return np.array(X_copy).astype(float)"
      ],
      "metadata": {
        "id": "YuFTwglqRi1_"
      },
      "execution_count": 11,
      "outputs": []
    },
    {
      "cell_type": "code",
      "source": [
        "X_train = pad_X(X_train)\n",
        "X_train.shape, y_train.shape"
      ],
      "metadata": {
        "colab": {
          "base_uri": "https://localhost:8080/"
        },
        "id": "bIBgvJHyRi4k",
        "outputId": "d614701b-4523-4520-d096-27422f167736"
      },
      "execution_count": 12,
      "outputs": [
        {
          "output_type": "execute_result",
          "data": {
            "text/plain": [
              "((2427, 73, 50), (2427,))"
            ]
          },
          "metadata": {},
          "execution_count": 12
        }
      ]
    },
    {
      "cell_type": "code",
      "source": [
        "X_val, y_val = df_to_X_y(val_df)\n",
        "X_val = pad_X(X_val)\n",
        "X_val.shape, y_val.shape"
      ],
      "metadata": {
        "colab": {
          "base_uri": "https://localhost:8080/"
        },
        "id": "-vJQZ9uCRi7K",
        "outputId": "a2cb17c2-e0d4-48f5-dc8e-28d6e772ac1b"
      },
      "execution_count": 13,
      "outputs": [
        {
          "output_type": "execute_result",
          "data": {
            "text/plain": [
              "((520, 73, 50), (520,))"
            ]
          },
          "metadata": {},
          "execution_count": 13
        }
      ]
    },
    {
      "cell_type": "code",
      "source": [
        "X_test, y_test = df_to_X_y(test_df)\n",
        "X_test = pad_X(X_test)\n",
        "X_test.shape, y_test.shape"
      ],
      "metadata": {
        "colab": {
          "base_uri": "https://localhost:8080/"
        },
        "id": "-oTpEKbsSLO3",
        "outputId": "40d3a7c8-b2eb-444f-d415-6824e9a70a59"
      },
      "execution_count": 14,
      "outputs": [
        {
          "output_type": "execute_result",
          "data": {
            "text/plain": [
              "((521, 73, 50), (521,))"
            ]
          },
          "metadata": {},
          "execution_count": 14
        }
      ]
    },
    {
      "cell_type": "code",
      "source": [
        "from tensorflow.keras import layers\n",
        "from tensorflow.keras.models import Sequential\n",
        "import tensorflow as tf"
      ],
      "metadata": {
        "id": "3wSNng_MSLSt"
      },
      "execution_count": 15,
      "outputs": []
    },
    {
      "cell_type": "code",
      "source": [
        "model = tf.keras.Sequential([\n",
        "            # Complex model with dropout\n",
        "            tf.keras.layers.Input(shape=(73, 50)),\n",
        "            #tf.keras.layers.Embedding(len(tokenizer.vocab), 32),\n",
        "            tf.keras.layers.Dropout(0.3),  # Add dropout after the embedding layer\n",
        "            tf.keras.layers.LSTM(32),\n",
        "            tf.keras.layers.Dropout(0.3),  # Add dropout after the LSTM layer\n",
        "            tf.keras.layers.Dense(16, activation='relu'),\n",
        "            tf.keras.layers.Dropout(0.3),  # Add dropout after the Dense layer\n",
        "            tf.keras.layers.Dense(1, activation='sigmoid')\n",
        "        ])"
      ],
      "metadata": {
        "id": "53ufmxohSLUI"
      },
      "execution_count": 16,
      "outputs": []
    },
    {
      "cell_type": "code",
      "source": [
        "model.summary()"
      ],
      "metadata": {
        "colab": {
          "base_uri": "https://localhost:8080/"
        },
        "id": "Eaa-J96wSLWt",
        "outputId": "aef3bac6-81a1-4545-e51a-c47207fe39b8"
      },
      "execution_count": 17,
      "outputs": [
        {
          "output_type": "stream",
          "name": "stdout",
          "text": [
            "Model: \"sequential\"\n",
            "_________________________________________________________________\n",
            " Layer (type)                Output Shape              Param #   \n",
            "=================================================================\n",
            " dropout (Dropout)           (None, 73, 50)            0         \n",
            "                                                                 \n",
            " lstm (LSTM)                 (None, 32)                10624     \n",
            "                                                                 \n",
            " dropout_1 (Dropout)         (None, 32)                0         \n",
            "                                                                 \n",
            " dense (Dense)               (None, 16)                528       \n",
            "                                                                 \n",
            " dropout_2 (Dropout)         (None, 16)                0         \n",
            "                                                                 \n",
            " dense_1 (Dense)             (None, 1)                 17        \n",
            "                                                                 \n",
            "=================================================================\n",
            "Total params: 11169 (43.63 KB)\n",
            "Trainable params: 11169 (43.63 KB)\n",
            "Non-trainable params: 0 (0.00 Byte)\n",
            "_________________________________________________________________\n"
          ]
        }
      ]
    },
    {
      "cell_type": "code",
      "source": [
        "from tensorflow.keras.losses import BinaryCrossentropy\n",
        "from tensorflow.keras.optimizers import Adam\n",
        "from tensorflow.keras.metrics import AUC\n",
        "from tensorflow.keras.callbacks import ModelCheckpoint\n",
        "\n",
        "cp = ModelCheckpoint('model/', save_best_only=True)\n",
        "\n",
        "model.compile(optimizer=Adam(learning_rate=0.0001),\n",
        "              loss=BinaryCrossentropy(),\n",
        "              metrics=['accuracy', AUC(name='auc')])"
      ],
      "metadata": {
        "id": "ayDVX-4sTLja"
      },
      "execution_count": 18,
      "outputs": []
    },
    {
      "cell_type": "code",
      "source": [
        "frequencies = pd.value_counts(train_df['sarcastic'])\n",
        "\n",
        "frequencies"
      ],
      "metadata": {
        "colab": {
          "base_uri": "https://localhost:8080/"
        },
        "id": "Lz81WTk8Ri9h",
        "outputId": "0590cb43-c8da-46d6-f155-edbf582d00a2"
      },
      "execution_count": 19,
      "outputs": [
        {
          "output_type": "execute_result",
          "data": {
            "text/plain": [
              "0    1823\n",
              "1     604\n",
              "Name: sarcastic, dtype: int64"
            ]
          },
          "metadata": {},
          "execution_count": 19
        }
      ]
    },
    {
      "cell_type": "code",
      "source": [
        "weights = {0: frequencies.sum() / frequencies[0], 1: frequencies.sum() / frequencies[1]}\n",
        "weights"
      ],
      "metadata": {
        "colab": {
          "base_uri": "https://localhost:8080/"
        },
        "id": "WtxMRcgCTQve",
        "outputId": "25cec109-eda5-4373-91bc-0bc5ac9bd56d"
      },
      "execution_count": 20,
      "outputs": [
        {
          "output_type": "execute_result",
          "data": {
            "text/plain": [
              "{0: 1.331321996708722, 1: 4.018211920529802}"
            ]
          },
          "metadata": {},
          "execution_count": 20
        }
      ]
    },
    {
      "cell_type": "code",
      "source": [
        "model.fit(X_train, y_train, validation_data=(X_val, y_val), epochs=20, callbacks=[cp], class_weight=weights)"
      ],
      "metadata": {
        "colab": {
          "base_uri": "https://localhost:8080/"
        },
        "id": "WUrXimv5TQyS",
        "outputId": "a2e5abbf-4698-4a6c-9cd2-6b96cee40b00"
      },
      "execution_count": 21,
      "outputs": [
        {
          "output_type": "stream",
          "name": "stdout",
          "text": [
            "Epoch 1/20\n",
            "76/76 [==============================] - 10s 94ms/step - loss: 1.3860 - accuracy: 0.7149 - auc: 0.4982 - val_loss: 0.6903 - val_accuracy: 0.7385 - val_auc: 0.5121\n",
            "Epoch 2/20\n",
            "76/76 [==============================] - 7s 98ms/step - loss: 1.3851 - accuracy: 0.7285 - auc: 0.5119 - val_loss: 0.6897 - val_accuracy: 0.7385 - val_auc: 0.5164\n",
            "Epoch 3/20\n",
            "76/76 [==============================] - 7s 90ms/step - loss: 1.3849 - accuracy: 0.7293 - auc: 0.4975 - val_loss: 0.6891 - val_accuracy: 0.7385 - val_auc: 0.5116\n",
            "Epoch 4/20\n",
            "76/76 [==============================] - 4s 51ms/step - loss: 1.3855 - accuracy: 0.6980 - auc: 0.5052 - val_loss: 0.6894 - val_accuracy: 0.7385 - val_auc: 0.5144\n",
            "Epoch 5/20\n",
            "76/76 [==============================] - 6s 81ms/step - loss: 1.3852 - accuracy: 0.6613 - auc: 0.5084 - val_loss: 0.6890 - val_accuracy: 0.7385 - val_auc: 0.5141\n",
            "Epoch 6/20\n",
            "76/76 [==============================] - 7s 99ms/step - loss: 1.3852 - accuracy: 0.7103 - auc: 0.5066 - val_loss: 0.6885 - val_accuracy: 0.7385 - val_auc: 0.5101\n",
            "Epoch 7/20\n",
            "76/76 [==============================] - 2s 30ms/step - loss: 1.3856 - accuracy: 0.5480 - auc: 0.5107 - val_loss: 0.6886 - val_accuracy: 0.3769 - val_auc: 0.5082\n",
            "Epoch 8/20\n",
            "76/76 [==============================] - 2s 29ms/step - loss: 1.3840 - accuracy: 0.4602 - auc: 0.5091 - val_loss: 0.6888 - val_accuracy: 0.3346 - val_auc: 0.5142\n",
            "Epoch 9/20\n",
            "76/76 [==============================] - 8s 106ms/step - loss: 1.3827 - accuracy: 0.3741 - auc: 0.5070 - val_loss: 0.6872 - val_accuracy: 0.3769 - val_auc: 0.5147\n",
            "Epoch 10/20\n",
            "76/76 [==============================] - 6s 83ms/step - loss: 1.3830 - accuracy: 0.3445 - auc: 0.4912 - val_loss: 0.6859 - val_accuracy: 0.3827 - val_auc: 0.5195\n",
            "Epoch 11/20\n",
            "76/76 [==============================] - 8s 108ms/step - loss: 1.3816 - accuracy: 0.4042 - auc: 0.5085 - val_loss: 0.6851 - val_accuracy: 0.3846 - val_auc: 0.5232\n",
            "Epoch 12/20\n",
            "76/76 [==============================] - 2s 29ms/step - loss: 1.3841 - accuracy: 0.3745 - auc: 0.5100 - val_loss: 0.6861 - val_accuracy: 0.3519 - val_auc: 0.5087\n",
            "Epoch 13/20\n",
            "76/76 [==============================] - 2s 29ms/step - loss: 1.3814 - accuracy: 0.3548 - auc: 0.5142 - val_loss: 0.6862 - val_accuracy: 0.3519 - val_auc: 0.5125\n",
            "Epoch 14/20\n",
            "76/76 [==============================] - 7s 88ms/step - loss: 1.3819 - accuracy: 0.3659 - auc: 0.5206 - val_loss: 0.6842 - val_accuracy: 0.3750 - val_auc: 0.5166\n",
            "Epoch 15/20\n",
            "76/76 [==============================] - 3s 40ms/step - loss: 1.3797 - accuracy: 0.3626 - auc: 0.5123 - val_loss: 0.6845 - val_accuracy: 0.3769 - val_auc: 0.5133\n",
            "Epoch 16/20\n",
            "76/76 [==============================] - 2s 29ms/step - loss: 1.3818 - accuracy: 0.3420 - auc: 0.5091 - val_loss: 0.6859 - val_accuracy: 0.3635 - val_auc: 0.5186\n",
            "Epoch 17/20\n",
            "76/76 [==============================] - 2s 32ms/step - loss: 1.3815 - accuracy: 0.3309 - auc: 0.5095 - val_loss: 0.6846 - val_accuracy: 0.3827 - val_auc: 0.5082\n",
            "Epoch 18/20\n",
            "76/76 [==============================] - 7s 89ms/step - loss: 1.3809 - accuracy: 0.3440 - auc: 0.5071 - val_loss: 0.6841 - val_accuracy: 0.3808 - val_auc: 0.5083\n",
            "Epoch 19/20\n",
            "76/76 [==============================] - 3s 35ms/step - loss: 1.3787 - accuracy: 0.3478 - auc: 0.5137 - val_loss: 0.6841 - val_accuracy: 0.3750 - val_auc: 0.5127\n",
            "Epoch 20/20\n",
            "76/76 [==============================] - 6s 81ms/step - loss: 1.3782 - accuracy: 0.3523 - auc: 0.5083 - val_loss: 0.6805 - val_accuracy: 0.4000 - val_auc: 0.5214\n"
          ]
        },
        {
          "output_type": "execute_result",
          "data": {
            "text/plain": [
              "<keras.src.callbacks.History at 0x7829043a2d70>"
            ]
          },
          "metadata": {},
          "execution_count": 21
        }
      ]
    },
    {
      "cell_type": "code",
      "source": [
        "from tensorflow.keras.models import load_model\n",
        "\n",
        "best_model = load_model('model/')"
      ],
      "metadata": {
        "id": "5I4ie3NjTQ03"
      },
      "execution_count": 22,
      "outputs": []
    },
    {
      "cell_type": "code",
      "source": [
        "test_predictions = (best_model.predict(X_test) > 0.5).astype(int)\n",
        "\n",
        "from sklearn.metrics import classification_report\n",
        "\n",
        "print(classification_report(y_test, test_predictions))"
      ],
      "metadata": {
        "colab": {
          "base_uri": "https://localhost:8080/"
        },
        "id": "6xXkd1NxTQ4P",
        "outputId": "254beead-018b-44d0-f062-5a7e8e15be90"
      },
      "execution_count": 23,
      "outputs": [
        {
          "output_type": "stream",
          "name": "stdout",
          "text": [
            "17/17 [==============================] - 1s 11ms/step\n",
            "              precision    recall  f1-score   support\n",
            "\n",
            "           0       0.84      0.28      0.42       394\n",
            "           1       0.27      0.83      0.41       127\n",
            "\n",
            "    accuracy                           0.41       521\n",
            "   macro avg       0.56      0.56      0.41       521\n",
            "weighted avg       0.70      0.41      0.42       521\n",
            "\n"
          ]
        }
      ]
    },
    {
      "cell_type": "code",
      "source": [],
      "metadata": {
        "id": "TxT0z-OmRjAC"
      },
      "execution_count": null,
      "outputs": []
    },
    {
      "cell_type": "code",
      "source": [],
      "metadata": {
        "id": "Ylu50QLBRjCi"
      },
      "execution_count": null,
      "outputs": []
    },
    {
      "cell_type": "code",
      "source": [],
      "metadata": {
        "id": "YwzPRdH-RjF0"
      },
      "execution_count": null,
      "outputs": []
    }
  ]
}