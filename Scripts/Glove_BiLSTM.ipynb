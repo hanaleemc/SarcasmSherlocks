{
  "nbformat": 4,
  "nbformat_minor": 0,
  "metadata": {
    "colab": {
      "provenance": []
    },
    "kernelspec": {
      "name": "python3",
      "display_name": "Python 3"
    },
    "language_info": {
      "name": "python"
    }
  },
  "cells": [
    {
      "cell_type": "code",
      "source": [
        "import pandas as pd\n",
        "\n",
        "train_df = pd.read_csv('Train_Dataset.csv')\n",
        "\n",
        "train_df.head()"
      ],
      "metadata": {
        "colab": {
          "base_uri": "https://localhost:8080/",
          "height": 642
        },
        "id": "t4rdaw5BEbAj",
        "outputId": "007e1173-9e58-44b7-8ee6-6f50e5265237"
      },
      "execution_count": 63,
      "outputs": [
        {
          "output_type": "execute_result",
          "data": {
            "text/plain": [
              "   Unnamed: 0                                              tweet  sarcastic  \\\n",
              "0           0  The only thing I got from college is a caffein...          1   \n",
              "1           1  I love it when professors draw a big question ...          1   \n",
              "2           2  Remember the hundred emails from companies whe...          1   \n",
              "3           3  Today my pop-pop told me I was not “forced” to...          1   \n",
              "4           4  @VolphanCarol @littlewhitty @mysticalmanatee I...          1   \n",
              "\n",
              "                                            rephrase  sarcasm  irony  satire  \\\n",
              "0  College is really difficult, expensive, tiring...      0.0    1.0     0.0   \n",
              "1  I do not like when professors don’t write out ...      1.0    0.0     0.0   \n",
              "2  I, at the bare minimum, wish companies actuall...      0.0    1.0     0.0   \n",
              "3  Today my pop-pop told me I was not \"forced\" to...      1.0    0.0     0.0   \n",
              "4  I would say Ted Cruz is an asshole and doesn’t...      1.0    0.0     0.0   \n",
              "\n",
              "   understatement  overstatement  rhetorical_question  \n",
              "0             0.0            0.0                  0.0  \n",
              "1             0.0            0.0                  0.0  \n",
              "2             0.0            0.0                  0.0  \n",
              "3             0.0            0.0                  0.0  \n",
              "4             0.0            0.0                  0.0  "
            ],
            "text/html": [
              "\n",
              "  <div id=\"df-5144ac9e-49b5-4214-bdc9-94a80f9bfd3a\" class=\"colab-df-container\">\n",
              "    <div>\n",
              "<style scoped>\n",
              "    .dataframe tbody tr th:only-of-type {\n",
              "        vertical-align: middle;\n",
              "    }\n",
              "\n",
              "    .dataframe tbody tr th {\n",
              "        vertical-align: top;\n",
              "    }\n",
              "\n",
              "    .dataframe thead th {\n",
              "        text-align: right;\n",
              "    }\n",
              "</style>\n",
              "<table border=\"1\" class=\"dataframe\">\n",
              "  <thead>\n",
              "    <tr style=\"text-align: right;\">\n",
              "      <th></th>\n",
              "      <th>Unnamed: 0</th>\n",
              "      <th>tweet</th>\n",
              "      <th>sarcastic</th>\n",
              "      <th>rephrase</th>\n",
              "      <th>sarcasm</th>\n",
              "      <th>irony</th>\n",
              "      <th>satire</th>\n",
              "      <th>understatement</th>\n",
              "      <th>overstatement</th>\n",
              "      <th>rhetorical_question</th>\n",
              "    </tr>\n",
              "  </thead>\n",
              "  <tbody>\n",
              "    <tr>\n",
              "      <th>0</th>\n",
              "      <td>0</td>\n",
              "      <td>The only thing I got from college is a caffein...</td>\n",
              "      <td>1</td>\n",
              "      <td>College is really difficult, expensive, tiring...</td>\n",
              "      <td>0.0</td>\n",
              "      <td>1.0</td>\n",
              "      <td>0.0</td>\n",
              "      <td>0.0</td>\n",
              "      <td>0.0</td>\n",
              "      <td>0.0</td>\n",
              "    </tr>\n",
              "    <tr>\n",
              "      <th>1</th>\n",
              "      <td>1</td>\n",
              "      <td>I love it when professors draw a big question ...</td>\n",
              "      <td>1</td>\n",
              "      <td>I do not like when professors don’t write out ...</td>\n",
              "      <td>1.0</td>\n",
              "      <td>0.0</td>\n",
              "      <td>0.0</td>\n",
              "      <td>0.0</td>\n",
              "      <td>0.0</td>\n",
              "      <td>0.0</td>\n",
              "    </tr>\n",
              "    <tr>\n",
              "      <th>2</th>\n",
              "      <td>2</td>\n",
              "      <td>Remember the hundred emails from companies whe...</td>\n",
              "      <td>1</td>\n",
              "      <td>I, at the bare minimum, wish companies actuall...</td>\n",
              "      <td>0.0</td>\n",
              "      <td>1.0</td>\n",
              "      <td>0.0</td>\n",
              "      <td>0.0</td>\n",
              "      <td>0.0</td>\n",
              "      <td>0.0</td>\n",
              "    </tr>\n",
              "    <tr>\n",
              "      <th>3</th>\n",
              "      <td>3</td>\n",
              "      <td>Today my pop-pop told me I was not “forced” to...</td>\n",
              "      <td>1</td>\n",
              "      <td>Today my pop-pop told me I was not \"forced\" to...</td>\n",
              "      <td>1.0</td>\n",
              "      <td>0.0</td>\n",
              "      <td>0.0</td>\n",
              "      <td>0.0</td>\n",
              "      <td>0.0</td>\n",
              "      <td>0.0</td>\n",
              "    </tr>\n",
              "    <tr>\n",
              "      <th>4</th>\n",
              "      <td>4</td>\n",
              "      <td>@VolphanCarol @littlewhitty @mysticalmanatee I...</td>\n",
              "      <td>1</td>\n",
              "      <td>I would say Ted Cruz is an asshole and doesn’t...</td>\n",
              "      <td>1.0</td>\n",
              "      <td>0.0</td>\n",
              "      <td>0.0</td>\n",
              "      <td>0.0</td>\n",
              "      <td>0.0</td>\n",
              "      <td>0.0</td>\n",
              "    </tr>\n",
              "  </tbody>\n",
              "</table>\n",
              "</div>\n",
              "    <div class=\"colab-df-buttons\">\n",
              "\n",
              "  <div class=\"colab-df-container\">\n",
              "    <button class=\"colab-df-convert\" onclick=\"convertToInteractive('df-5144ac9e-49b5-4214-bdc9-94a80f9bfd3a')\"\n",
              "            title=\"Convert this dataframe to an interactive table.\"\n",
              "            style=\"display:none;\">\n",
              "\n",
              "  <svg xmlns=\"http://www.w3.org/2000/svg\" height=\"24px\" viewBox=\"0 -960 960 960\">\n",
              "    <path d=\"M120-120v-720h720v720H120Zm60-500h600v-160H180v160Zm220 220h160v-160H400v160Zm0 220h160v-160H400v160ZM180-400h160v-160H180v160Zm440 0h160v-160H620v160ZM180-180h160v-160H180v160Zm440 0h160v-160H620v160Z\"/>\n",
              "  </svg>\n",
              "    </button>\n",
              "\n",
              "  <style>\n",
              "    .colab-df-container {\n",
              "      display:flex;\n",
              "      gap: 12px;\n",
              "    }\n",
              "\n",
              "    .colab-df-convert {\n",
              "      background-color: #E8F0FE;\n",
              "      border: none;\n",
              "      border-radius: 50%;\n",
              "      cursor: pointer;\n",
              "      display: none;\n",
              "      fill: #1967D2;\n",
              "      height: 32px;\n",
              "      padding: 0 0 0 0;\n",
              "      width: 32px;\n",
              "    }\n",
              "\n",
              "    .colab-df-convert:hover {\n",
              "      background-color: #E2EBFA;\n",
              "      box-shadow: 0px 1px 2px rgba(60, 64, 67, 0.3), 0px 1px 3px 1px rgba(60, 64, 67, 0.15);\n",
              "      fill: #174EA6;\n",
              "    }\n",
              "\n",
              "    .colab-df-buttons div {\n",
              "      margin-bottom: 4px;\n",
              "    }\n",
              "\n",
              "    [theme=dark] .colab-df-convert {\n",
              "      background-color: #3B4455;\n",
              "      fill: #D2E3FC;\n",
              "    }\n",
              "\n",
              "    [theme=dark] .colab-df-convert:hover {\n",
              "      background-color: #434B5C;\n",
              "      box-shadow: 0px 1px 3px 1px rgba(0, 0, 0, 0.15);\n",
              "      filter: drop-shadow(0px 1px 2px rgba(0, 0, 0, 0.3));\n",
              "      fill: #FFFFFF;\n",
              "    }\n",
              "  </style>\n",
              "\n",
              "    <script>\n",
              "      const buttonEl =\n",
              "        document.querySelector('#df-5144ac9e-49b5-4214-bdc9-94a80f9bfd3a button.colab-df-convert');\n",
              "      buttonEl.style.display =\n",
              "        google.colab.kernel.accessAllowed ? 'block' : 'none';\n",
              "\n",
              "      async function convertToInteractive(key) {\n",
              "        const element = document.querySelector('#df-5144ac9e-49b5-4214-bdc9-94a80f9bfd3a');\n",
              "        const dataTable =\n",
              "          await google.colab.kernel.invokeFunction('convertToInteractive',\n",
              "                                                    [key], {});\n",
              "        if (!dataTable) return;\n",
              "\n",
              "        const docLinkHtml = 'Like what you see? Visit the ' +\n",
              "          '<a target=\"_blank\" href=https://colab.research.google.com/notebooks/data_table.ipynb>data table notebook</a>'\n",
              "          + ' to learn more about interactive tables.';\n",
              "        element.innerHTML = '';\n",
              "        dataTable['output_type'] = 'display_data';\n",
              "        await google.colab.output.renderOutput(dataTable, element);\n",
              "        const docLink = document.createElement('div');\n",
              "        docLink.innerHTML = docLinkHtml;\n",
              "        element.appendChild(docLink);\n",
              "      }\n",
              "    </script>\n",
              "  </div>\n",
              "\n",
              "\n",
              "<div id=\"df-083d7a0b-f799-40a8-9834-fdfc0a309372\">\n",
              "  <button class=\"colab-df-quickchart\" onclick=\"quickchart('df-083d7a0b-f799-40a8-9834-fdfc0a309372')\"\n",
              "            title=\"Suggest charts\"\n",
              "            style=\"display:none;\">\n",
              "\n",
              "<svg xmlns=\"http://www.w3.org/2000/svg\" height=\"24px\"viewBox=\"0 0 24 24\"\n",
              "     width=\"24px\">\n",
              "    <g>\n",
              "        <path d=\"M19 3H5c-1.1 0-2 .9-2 2v14c0 1.1.9 2 2 2h14c1.1 0 2-.9 2-2V5c0-1.1-.9-2-2-2zM9 17H7v-7h2v7zm4 0h-2V7h2v10zm4 0h-2v-4h2v4z\"/>\n",
              "    </g>\n",
              "</svg>\n",
              "  </button>\n",
              "\n",
              "<style>\n",
              "  .colab-df-quickchart {\n",
              "      --bg-color: #E8F0FE;\n",
              "      --fill-color: #1967D2;\n",
              "      --hover-bg-color: #E2EBFA;\n",
              "      --hover-fill-color: #174EA6;\n",
              "      --disabled-fill-color: #AAA;\n",
              "      --disabled-bg-color: #DDD;\n",
              "  }\n",
              "\n",
              "  [theme=dark] .colab-df-quickchart {\n",
              "      --bg-color: #3B4455;\n",
              "      --fill-color: #D2E3FC;\n",
              "      --hover-bg-color: #434B5C;\n",
              "      --hover-fill-color: #FFFFFF;\n",
              "      --disabled-bg-color: #3B4455;\n",
              "      --disabled-fill-color: #666;\n",
              "  }\n",
              "\n",
              "  .colab-df-quickchart {\n",
              "    background-color: var(--bg-color);\n",
              "    border: none;\n",
              "    border-radius: 50%;\n",
              "    cursor: pointer;\n",
              "    display: none;\n",
              "    fill: var(--fill-color);\n",
              "    height: 32px;\n",
              "    padding: 0;\n",
              "    width: 32px;\n",
              "  }\n",
              "\n",
              "  .colab-df-quickchart:hover {\n",
              "    background-color: var(--hover-bg-color);\n",
              "    box-shadow: 0 1px 2px rgba(60, 64, 67, 0.3), 0 1px 3px 1px rgba(60, 64, 67, 0.15);\n",
              "    fill: var(--button-hover-fill-color);\n",
              "  }\n",
              "\n",
              "  .colab-df-quickchart-complete:disabled,\n",
              "  .colab-df-quickchart-complete:disabled:hover {\n",
              "    background-color: var(--disabled-bg-color);\n",
              "    fill: var(--disabled-fill-color);\n",
              "    box-shadow: none;\n",
              "  }\n",
              "\n",
              "  .colab-df-spinner {\n",
              "    border: 2px solid var(--fill-color);\n",
              "    border-color: transparent;\n",
              "    border-bottom-color: var(--fill-color);\n",
              "    animation:\n",
              "      spin 1s steps(1) infinite;\n",
              "  }\n",
              "\n",
              "  @keyframes spin {\n",
              "    0% {\n",
              "      border-color: transparent;\n",
              "      border-bottom-color: var(--fill-color);\n",
              "      border-left-color: var(--fill-color);\n",
              "    }\n",
              "    20% {\n",
              "      border-color: transparent;\n",
              "      border-left-color: var(--fill-color);\n",
              "      border-top-color: var(--fill-color);\n",
              "    }\n",
              "    30% {\n",
              "      border-color: transparent;\n",
              "      border-left-color: var(--fill-color);\n",
              "      border-top-color: var(--fill-color);\n",
              "      border-right-color: var(--fill-color);\n",
              "    }\n",
              "    40% {\n",
              "      border-color: transparent;\n",
              "      border-right-color: var(--fill-color);\n",
              "      border-top-color: var(--fill-color);\n",
              "    }\n",
              "    60% {\n",
              "      border-color: transparent;\n",
              "      border-right-color: var(--fill-color);\n",
              "    }\n",
              "    80% {\n",
              "      border-color: transparent;\n",
              "      border-right-color: var(--fill-color);\n",
              "      border-bottom-color: var(--fill-color);\n",
              "    }\n",
              "    90% {\n",
              "      border-color: transparent;\n",
              "      border-bottom-color: var(--fill-color);\n",
              "    }\n",
              "  }\n",
              "</style>\n",
              "\n",
              "  <script>\n",
              "    async function quickchart(key) {\n",
              "      const quickchartButtonEl =\n",
              "        document.querySelector('#' + key + ' button');\n",
              "      quickchartButtonEl.disabled = true;  // To prevent multiple clicks.\n",
              "      quickchartButtonEl.classList.add('colab-df-spinner');\n",
              "      try {\n",
              "        const charts = await google.colab.kernel.invokeFunction(\n",
              "            'suggestCharts', [key], {});\n",
              "      } catch (error) {\n",
              "        console.error('Error during call to suggestCharts:', error);\n",
              "      }\n",
              "      quickchartButtonEl.classList.remove('colab-df-spinner');\n",
              "      quickchartButtonEl.classList.add('colab-df-quickchart-complete');\n",
              "    }\n",
              "    (() => {\n",
              "      let quickchartButtonEl =\n",
              "        document.querySelector('#df-083d7a0b-f799-40a8-9834-fdfc0a309372 button');\n",
              "      quickchartButtonEl.style.display =\n",
              "        google.colab.kernel.accessAllowed ? 'block' : 'none';\n",
              "    })();\n",
              "  </script>\n",
              "</div>\n",
              "    </div>\n",
              "  </div>\n"
            ],
            "application/vnd.google.colaboratory.intrinsic+json": {
              "type": "dataframe",
              "variable_name": "train_df",
              "summary": "{\n  \"name\": \"train_df\",\n  \"rows\": 3468,\n  \"fields\": [\n    {\n      \"column\": \"Unnamed: 0\",\n      \"properties\": {\n        \"dtype\": \"number\",\n        \"std\": 1001,\n        \"min\": 0,\n        \"max\": 3467,\n        \"num_unique_values\": 3468,\n        \"samples\": [\n          1602,\n          805,\n          864\n        ],\n        \"semantic_type\": \"\",\n        \"description\": \"\"\n      }\n    },\n    {\n      \"column\": \"tweet\",\n      \"properties\": {\n        \"dtype\": \"string\",\n        \"num_unique_values\": 3456,\n        \"samples\": [\n          \"@dave26318632 I don\\u2019t get anywhere near \\u00a3500 a month on UC though. I basically get told \\u201cyou get what you get, and if you don\\u2019t like it you can fuck off and die.\\u201d\\n\\nOne thing\\u2019s for certain, I wouldn\\u2019t cross a puddle for the benefits I\\u2019m on, let alone the Channel.\",\n          \"July 1st. Half way point of the year. Well I think we can all agree that 2020 has gone swimmingly so far. \\nCan\\u2019t wait for part 2. \\n#murderhornets\",\n          \"Wow it\\u2019s almost like we don\\u2019t nap every single day at the exact same time wow how dare I try to do the thing we do every single day!\"\n        ],\n        \"semantic_type\": \"\",\n        \"description\": \"\"\n      }\n    },\n    {\n      \"column\": \"sarcastic\",\n      \"properties\": {\n        \"dtype\": \"number\",\n        \"std\": 0,\n        \"min\": 0,\n        \"max\": 1,\n        \"num_unique_values\": 2,\n        \"samples\": [\n          0,\n          1\n        ],\n        \"semantic_type\": \"\",\n        \"description\": \"\"\n      }\n    },\n    {\n      \"column\": \"rephrase\",\n      \"properties\": {\n        \"dtype\": \"category\",\n        \"num_unique_values\": 865,\n        \"samples\": [\n          \"How will the UK government be changing the Coronavirus restrictions in tonight's briefing?\",\n          \"It is quite obvious that cats do not actually wear nail polish.\"\n        ],\n        \"semantic_type\": \"\",\n        \"description\": \"\"\n      }\n    },\n    {\n      \"column\": \"sarcasm\",\n      \"properties\": {\n        \"dtype\": \"number\",\n        \"std\": 0.3824165072439901,\n        \"min\": 0.0,\n        \"max\": 1.0,\n        \"num_unique_values\": 2,\n        \"samples\": [\n          1.0,\n          0.0\n        ],\n        \"semantic_type\": \"\",\n        \"description\": \"\"\n      }\n    },\n    {\n      \"column\": \"irony\",\n      \"properties\": {\n        \"dtype\": \"number\",\n        \"std\": 0.38338697223747575,\n        \"min\": 0.0,\n        \"max\": 1.0,\n        \"num_unique_values\": 2,\n        \"samples\": [\n          0.0,\n          1.0\n        ],\n        \"semantic_type\": \"\",\n        \"description\": \"\"\n      }\n    },\n    {\n      \"column\": \"satire\",\n      \"properties\": {\n        \"dtype\": \"number\",\n        \"std\": 0.1674393600000276,\n        \"min\": 0.0,\n        \"max\": 1.0,\n        \"num_unique_values\": 2,\n        \"samples\": [\n          1.0,\n          0.0\n        ],\n        \"semantic_type\": \"\",\n        \"description\": \"\"\n      }\n    },\n    {\n      \"column\": \"understatement\",\n      \"properties\": {\n        \"dtype\": \"number\",\n        \"std\": 0.10683705701144951,\n        \"min\": 0.0,\n        \"max\": 1.0,\n        \"num_unique_values\": 2,\n        \"samples\": [\n          1.0,\n          0.0\n        ],\n        \"semantic_type\": \"\",\n        \"description\": \"\"\n      }\n    },\n    {\n      \"column\": \"overstatement\",\n      \"properties\": {\n        \"dtype\": \"number\",\n        \"std\": 0.20990087823453582,\n        \"min\": 0.0,\n        \"max\": 1.0,\n        \"num_unique_values\": 2,\n        \"samples\": [\n          1.0,\n          0.0\n        ],\n        \"semantic_type\": \"\",\n        \"description\": \"\"\n      }\n    },\n    {\n      \"column\": \"rhetorical_question\",\n      \"properties\": {\n        \"dtype\": \"number\",\n        \"std\": 0.32100114162940024,\n        \"min\": 0.0,\n        \"max\": 1.0,\n        \"num_unique_values\": 2,\n        \"samples\": [\n          1.0,\n          0.0\n        ],\n        \"semantic_type\": \"\",\n        \"description\": \"\"\n      }\n    }\n  ]\n}"
            }
          },
          "metadata": {},
          "execution_count": 63
        }
      ]
    },
    {
      "cell_type": "code",
      "execution_count": 64,
      "metadata": {
        "colab": {
          "base_uri": "https://localhost:8080/"
        },
        "id": "ARaqKgKGEMD-",
        "outputId": "4a05cba7-c882-4376-9839-832e2768c64e"
      },
      "outputs": [
        {
          "output_type": "execute_result",
          "data": {
            "text/plain": [
              "0    2601\n",
              "1     867\n",
              "Name: sarcastic, dtype: int64"
            ]
          },
          "metadata": {},
          "execution_count": 64
        }
      ],
      "source": [
        "train_df['sarcastic'].value_counts()"
      ]
    },
    {
      "cell_type": "code",
      "source": [
        "import numpy as np\n",
        "words = dict()\n",
        "\n",
        "def add_to_dict(d, filename):\n",
        "    with open(filename, 'r') as f:\n",
        "        for line in f.readlines():\n",
        "            line = line.split(' ')\n",
        "\n",
        "            try:\n",
        "                d[line[0]] = np.array(line[1:], dtype=float) # separates word [line[0]] from its embeddings [line[1:]]\n",
        "            except:\n",
        "                continue\n",
        "add_to_dict(words, 'glove.6B.50d.txt')"
      ],
      "metadata": {
        "id": "JZTIMRcpEfYD"
      },
      "execution_count": 65,
      "outputs": []
    },
    {
      "cell_type": "code",
      "source": [
        "!pip install emoji"
      ],
      "metadata": {
        "colab": {
          "base_uri": "https://localhost:8080/"
        },
        "id": "PdCx-X9zE9ZE",
        "outputId": "8ff31e09-7555-4a97-d950-82577967a458"
      },
      "execution_count": 66,
      "outputs": [
        {
          "output_type": "stream",
          "name": "stdout",
          "text": [
            "Requirement already satisfied: emoji in /usr/local/lib/python3.10/dist-packages (2.10.1)\n"
          ]
        }
      ]
    },
    {
      "cell_type": "code",
      "source": [
        "import nltk\n",
        "import re\n",
        "from nltk.stem import WordNetLemmatizer\n",
        "from nltk.tokenize import TweetTokenizer\n",
        "import emoji\n",
        "nltk.download('wordnet') # for nlp tasks\n",
        "#Preporcess, tokenize and create embeddings\n",
        "# Load the NLTK tokenizer\n",
        "tokenizer =  TweetTokenizer()  #nltk.RegexpTokenizer(r\"\\w+\")\n",
        "lemmatizer = WordNetLemmatizer()\n",
        "\n",
        "# Define URL, hashtag, and mention regex patterns\n",
        "url_regex = re.compile(r'http[s]?://(?:[a-zA-Z]|[0-9]|[$-_@.&+]|[!*\\\\(\\\\),]|(?:%[0-9a-fA-F][0-9a-fA-F]))+')\n",
        "hashtag_regex = re.compile(r'#\\S+')\n",
        "mention_regex = re.compile(r'@\\w+')\n",
        "\n",
        "def preprocess_type_II(tweet_text):\n",
        "    if pd.isna(tweet_text) or tweet_text == '':\n",
        "        return tweet_text\n",
        "\n",
        "    # Convert urls to HTTPURL, user handles to @USER token, delete hashtags\n",
        "    tweet_text = url_regex.sub('HTTPURL', tweet_text)\n",
        "    tweet_text = mention_regex.sub('@USER', tweet_text)\n",
        "    tweet_text = hashtag_regex.sub('', tweet_text)\n",
        "\n",
        "    return tweet_text\n",
        "\n",
        "def preprocess_type_III(tweet_text):\n",
        "    if pd.isna(tweet_text) or tweet_text == '':\n",
        "        return tweet_text\n",
        "\n",
        "    # Use function to convert urls to HTTPURL, user handles to @USER token, delete hashtags\n",
        "    tweet_text = preprocess_type_II(tweet_text)\n",
        "\n",
        "    # Replace contractions with full forms\n",
        "    contraction_mapping = {\"isn't\": \"is not\", \"’cause\": \"because\", \"You'd\": \"you would\", \"I’m\": \"I am\",\n",
        "                           \"Couldn't\": \"Could not\", }  # Customize as needed\n",
        "    for contraction, full_form in contraction_mapping.items():\n",
        "        tweet_text = tweet_text.replace(contraction, full_form)\n",
        "\n",
        "    # Convert emotion icons to their string text\n",
        "    tweet_text = emoji.demojize(tweet_text)\n",
        "\n",
        "    return tweet_text\n"
      ],
      "metadata": {
        "colab": {
          "base_uri": "https://localhost:8080/"
        },
        "id": "8FuJVilVEhZa",
        "outputId": "e85a8ec1-e088-453a-e09c-51b999f164a5"
      },
      "execution_count": 67,
      "outputs": [
        {
          "output_type": "stream",
          "name": "stderr",
          "text": [
            "[nltk_data] Downloading package wordnet to /root/nltk_data...\n",
            "[nltk_data]   Package wordnet is already up-to-date!\n"
          ]
        }
      ]
    },
    {
      "cell_type": "code",
      "source": [
        "def message_to_token_list(s, preprocess_func=preprocess_type_III):\n",
        "    # Apply preprocessing\n",
        "    s = preprocess_func(s)\n",
        "    s = str(s)  # Ensure s is converted to string\n",
        "    s = s.replace(\"&amp;\", \"&\")  # Replace HTML entities with their corresponding characters\n",
        "\n",
        "    # Tokenize the preprocessed text\n",
        "    tokens = tokenizer.tokenize(s)\n",
        "    lowercased_tokens = [t.lower() for t in tokens]\n",
        "    lemmatized_tokens = [lemmatizer.lemmatize(t) for t in lowercased_tokens]\n",
        "    useful_tokens = [t for t in lemmatized_tokens if t in words]\n",
        "\n",
        "    return useful_tokens"
      ],
      "metadata": {
        "id": "OmCplN1kE7s_"
      },
      "execution_count": 68,
      "outputs": []
    },
    {
      "cell_type": "code",
      "source": [
        "def message_to_word_vectors(message, word_dict=words):\n",
        "\n",
        "    processed_list_of_tokens = message_to_token_list(message) #preprocessing and tokenization step\n",
        "\n",
        "    vectors = [] # initialize empty array\n",
        "\n",
        "    for token in processed_list_of_tokens:\n",
        "\n",
        "        if token not in word_dict: #word embedding dictionary\n",
        "            continue\n",
        "\n",
        "        token_vector = word_dict[token] #whatever word we saw there grab its corresponding vector\n",
        "        vectors.append(token_vector)\n",
        "\n",
        "\n",
        "    return np.array(vectors, dtype=float)"
      ],
      "metadata": {
        "id": "y8GJ84iaEjzG"
      },
      "execution_count": 69,
      "outputs": []
    },
    {
      "cell_type": "code",
      "source": [
        "train_df = train_df.sample(frac=1, random_state=1)\n",
        "train_df.reset_index(drop=True, inplace=True)\n",
        "\n",
        "split_index_1 = int(len(train_df) * 0.7)\n",
        "split_index_2 = int(len(train_df) * 0.85)\n",
        "\n",
        "train_df, val_df, test_df = train_df[:split_index_1], train_df[split_index_1:split_index_2], train_df[split_index_2:]\n",
        "\n",
        "len(train_df), len(val_df), len(test_df)"
      ],
      "metadata": {
        "colab": {
          "base_uri": "https://localhost:8080/"
        },
        "id": "EPr5jJ_aE4TS",
        "outputId": "89726c2a-664d-4716-acb4-9cf18de25cbf"
      },
      "execution_count": 70,
      "outputs": [
        {
          "output_type": "execute_result",
          "data": {
            "text/plain": [
              "(2427, 520, 521)"
            ]
          },
          "metadata": {},
          "execution_count": 70
        }
      ]
    },
    {
      "cell_type": "code",
      "source": [
        "#x inputs and y is outputs\n",
        "def df_to_X_y(dff):\n",
        "  y = dff['sarcastic'].to_numpy().astype(int)\n",
        "\n",
        "  all_word_vector_sequences = []#inputs\n",
        "\n",
        "  for message in dff['tweet']:\n",
        "    message_as_vector_seq = message_to_word_vectors(message)\n",
        "\n",
        "    if message_as_vector_seq.shape[0] == 0:\n",
        "      message_as_vector_seq = np.zeros(shape=(1, 50))\n",
        "\n",
        "    all_word_vector_sequences.append(message_as_vector_seq) # diff num of tokens in each message\n",
        "\n",
        "  return all_word_vector_sequences, y"
      ],
      "metadata": {
        "id": "jnJz4Nl-FgdC"
      },
      "execution_count": 71,
      "outputs": []
    },
    {
      "cell_type": "code",
      "source": [
        "X_train, y_train = df_to_X_y(train_df)\n",
        "\n",
        "print(len(X_train), len(X_train[1])) #highlights different sequences length"
      ],
      "metadata": {
        "colab": {
          "base_uri": "https://localhost:8080/"
        },
        "id": "ed9zUWPEFxdq",
        "outputId": "3c702215-e248-4d02-ad0d-b8938dee37a1"
      },
      "execution_count": 72,
      "outputs": [
        {
          "output_type": "stream",
          "name": "stdout",
          "text": [
            "2427 32\n"
          ]
        }
      ]
    },
    {
      "cell_type": "code",
      "source": [
        "#data analysis\n",
        "\n",
        "sequence_lengths = []\n",
        "\n",
        "for i in range(len(X_train)):\n",
        "  sequence_lengths.append(len(X_train[i]))\n",
        "\n",
        "import matplotlib.pyplot as plt\n",
        "\n",
        "plt.hist(sequence_lengths)\n",
        "pd.Series(sequence_lengths).describe()"
      ],
      "metadata": {
        "colab": {
          "base_uri": "https://localhost:8080/",
          "height": 591
        },
        "id": "uCjcw9jMFy2q",
        "outputId": "de6eb7e7-588c-474b-fcf9-19be2ded3948"
      },
      "execution_count": 73,
      "outputs": [
        {
          "output_type": "execute_result",
          "data": {
            "text/plain": [
              "count    2427.000000\n",
              "mean       20.196951\n",
              "std        12.493030\n",
              "min         1.000000\n",
              "25%        11.000000\n",
              "50%        18.000000\n",
              "75%        26.000000\n",
              "max        72.000000\n",
              "dtype: float64"
            ]
          },
          "metadata": {},
          "execution_count": 73
        },
        {
          "output_type": "display_data",
          "data": {
            "text/plain": [
              "<Figure size 640x480 with 1 Axes>"
            ],
            "image/png": "[encoded data removed]"
          },
          "metadata": {}
        }
      ]
    },
    {
      "cell_type": "code",
      "source": [
        "#max=61\n",
        "#you look for the max tokens count to make numoy array\n",
        "#we need sequence length to be the same\n",
        "#make all the maximum\n",
        "#zero padding\n",
        "from copy import deepcopy\n",
        "\n",
        "def pad_X(X, desired_sequence_length=73):#set to max\n",
        "  X_copy = deepcopy(X)\n",
        "\n",
        "  for i, x in enumerate(X):\n",
        "    x_seq_len = x.shape[0]\n",
        "    sequence_length_difference = desired_sequence_length - x_seq_len\n",
        "#ading the pads # 50 is the glove\n",
        "    pad = np.zeros(shape=(sequence_length_difference, 50)) #50 cause glove\n",
        "\n",
        "    X_copy[i] = np.concatenate([x, pad]) #pad zeros at end\n",
        "\n",
        "  return np.array(X_copy).astype(float)"
      ],
      "metadata": {
        "id": "yz4qhwWeF7Yq"
      },
      "execution_count": 74,
      "outputs": []
    },
    {
      "cell_type": "code",
      "source": [
        "X_train = pad_X(X_train)"
      ],
      "metadata": {
        "id": "3YYJI7QlGOOu"
      },
      "execution_count": 75,
      "outputs": []
    },
    {
      "cell_type": "code",
      "source": [
        "X_train.shape, y_train.shape"
      ],
      "metadata": {
        "colab": {
          "base_uri": "https://localhost:8080/"
        },
        "id": "lQSNzkDXGOXA",
        "outputId": "2f78d19c-3364-40e8-aed6-0307be5cde69"
      },
      "execution_count": 76,
      "outputs": [
        {
          "output_type": "execute_result",
          "data": {
            "text/plain": [
              "((2427, 73, 50), (2427,))"
            ]
          },
          "metadata": {},
          "execution_count": 76
        }
      ]
    },
    {
      "cell_type": "code",
      "source": [
        "X_val, y_val = df_to_X_y(val_df)"
      ],
      "metadata": {
        "id": "9LKquvtKLeQv"
      },
      "execution_count": 77,
      "outputs": []
    },
    {
      "cell_type": "code",
      "source": [
        "X_val = pad_X(X_val)"
      ],
      "metadata": {
        "id": "bgUGshk8MHrc"
      },
      "execution_count": 78,
      "outputs": []
    },
    {
      "cell_type": "code",
      "source": [
        "X_val.shape, y_val.shape"
      ],
      "metadata": {
        "colab": {
          "base_uri": "https://localhost:8080/"
        },
        "id": "2efoyeLiMJ7v",
        "outputId": "865c68c1-3465-4cd0-a754-f39fc80da25b"
      },
      "execution_count": 79,
      "outputs": [
        {
          "output_type": "execute_result",
          "data": {
            "text/plain": [
              "((520, 73, 50), (520,))"
            ]
          },
          "metadata": {},
          "execution_count": 79
        }
      ]
    },
    {
      "cell_type": "code",
      "source": [
        "X_test, y_test = df_to_X_y(test_df)\n"
      ],
      "metadata": {
        "id": "lBuyJMZMGc5i"
      },
      "execution_count": 80,
      "outputs": []
    },
    {
      "cell_type": "code",
      "source": [
        "X_test = pad_X(X_test)\n"
      ],
      "metadata": {
        "id": "DbgPZ97fGdni"
      },
      "execution_count": 81,
      "outputs": []
    },
    {
      "cell_type": "code",
      "source": [
        "X_test.shape, y_test.shape\n"
      ],
      "metadata": {
        "colab": {
          "base_uri": "https://localhost:8080/"
        },
        "id": "l-oU8oe2GObr",
        "outputId": "6b6bbf62-b752-41c0-c162-2fe9b0142fb3"
      },
      "execution_count": 82,
      "outputs": [
        {
          "output_type": "execute_result",
          "data": {
            "text/plain": [
              "((521, 73, 50), (521,))"
            ]
          },
          "metadata": {},
          "execution_count": 82
        }
      ]
    },
    {
      "cell_type": "code",
      "source": [
        "from tensorflow.keras import layers\n",
        "from tensorflow.keras.models import Sequential"
      ],
      "metadata": {
        "id": "6pAoKIO4GOgj"
      },
      "execution_count": 83,
      "outputs": []
    },
    {
      "cell_type": "code",
      "source": [
        "\"\"\"\n",
        "model = Sequential([])\n",
        "\n",
        "model.add(layers.Input(shape=(63, 50))) # so we definitely have a shape/pad issue in our data #shape (length,50_)\n",
        "model.add(layers.LSTM(64, return_sequences=True)) #64 is chosen as it is usually a good starting point\n",
        "model.add(layers.Dropout(0.2)) # regularizing or shrinking the coefficients to avoid overfitting\n",
        "model.add(layers.LSTM(64, return_sequences=True))\n",
        "model.add(layers.Dropout(0.2))\n",
        "model.add(layers.LSTM(64, return_sequences=True))\n",
        "model.add(layers.Dropout(0.2))\n",
        "model.add(layers.Flatten())\n",
        "model.add(layers.Dense(1, activation='sigmoid'))\n",
        "model.summary()\n",
        "\"\"\""
      ],
      "metadata": {
        "colab": {
          "base_uri": "https://localhost:8080/",
          "height": 157
        },
        "id": "AbJp38cYGOlq",
        "outputId": "093117f6-a87e-4174-b044-6583e4b6959b"
      },
      "execution_count": 84,
      "outputs": [
        {
          "output_type": "execute_result",
          "data": {
            "text/plain": [
              "\"\\nmodel = Sequential([])\\n\\nmodel.add(layers.Input(shape=(63, 50))) # so we definitely have a shape/pad issue in our data #shape (length,50_)\\nmodel.add(layers.LSTM(64, return_sequences=True)) #64 is chosen as it is usually a good starting point\\nmodel.add(layers.Dropout(0.2)) # regularizing or shrinking the coefficients to avoid overfitting\\nmodel.add(layers.LSTM(64, return_sequences=True))\\nmodel.add(layers.Dropout(0.2))\\nmodel.add(layers.LSTM(64, return_sequences=True))\\nmodel.add(layers.Dropout(0.2))\\nmodel.add(layers.Flatten())\\nmodel.add(layers.Dense(1, activation='sigmoid'))\\nmodel.summary()\\n\""
            ],
            "application/vnd.google.colaboratory.intrinsic+json": {
              "type": "string"
            }
          },
          "metadata": {},
          "execution_count": 84
        }
      ]
    },
    {
      "cell_type": "code",
      "source": [
        "import tensorflow as tf"
      ],
      "metadata": {
        "id": "lgOUIVGKI3St"
      },
      "execution_count": 98,
      "outputs": []
    },
    {
      "cell_type": "code",
      "source": [
        "model = Sequential([\n",
        "    #layers.Embedding(73, 50),\n",
        "    layers.Input(shape=(73, 50)),\n",
        "    layers.Bidirectional(layers.LSTM(32, return_sequences=True)),\n",
        "    layers.TimeDistributed(layers.Dense(64, activation='relu')),\n",
        "    layers.Bidirectional(layers.LSTM(32, return_sequences=True)),\n",
        "    layers.TimeDistributed(layers.Dense(64, activation='relu')),\n",
        "    layers.Bidirectional(layers.LSTM(32)),\n",
        "    #layers.Flatten(),\n",
        "    layers.Dense(8, activation='relu'),\n",
        "    layers.Dense(1, activation='sigmoid')\n",
        "])"
      ],
      "metadata": {
        "id": "ThdALGKXHJ1F"
      },
      "execution_count": 111,
      "outputs": []
    },
    {
      "cell_type": "code",
      "source": [
        "model.summary()"
      ],
      "metadata": {
        "colab": {
          "base_uri": "https://localhost:8080/"
        },
        "id": "dU1wzxlXM9Om",
        "outputId": "ef6d1446-23ad-496f-94ae-b58bb61258ff"
      },
      "execution_count": 112,
      "outputs": [
        {
          "output_type": "stream",
          "name": "stdout",
          "text": [
            "Model: \"sequential_7\"\n",
            "_________________________________________________________________\n",
            " Layer (type)                Output Shape              Param #   \n",
            "=================================================================\n",
            " bidirectional_18 (Bidirect  (None, 73, 64)            21248     \n",
            " ional)                                                          \n",
            "                                                                 \n",
            " time_distributed_12 (TimeD  (None, 73, 64)            4160      \n",
            " istributed)                                                     \n",
            "                                                                 \n",
            " bidirectional_19 (Bidirect  (None, 73, 64)            24832     \n",
            " ional)                                                          \n",
            "                                                                 \n",
            " time_distributed_13 (TimeD  (None, 73, 64)            4160      \n",
            " istributed)                                                     \n",
            "                                                                 \n",
            " bidirectional_20 (Bidirect  (None, 64)                24832     \n",
            " ional)                                                          \n",
            "                                                                 \n",
            " dense_26 (Dense)            (None, 8)                 520       \n",
            "                                                                 \n",
            " dense_27 (Dense)            (None, 1)                 9         \n",
            "                                                                 \n",
            "=================================================================\n",
            "Total params: 79761 (311.57 KB)\n",
            "Trainable params: 79761 (311.57 KB)\n",
            "Non-trainable params: 0 (0.00 Byte)\n",
            "_________________________________________________________________\n"
          ]
        }
      ]
    },
    {
      "cell_type": "code",
      "source": [
        "from tensorflow.keras.losses import BinaryCrossentropy\n",
        "from tensorflow.keras.optimizers import Adam\n",
        "from tensorflow.keras.metrics import AUC\n",
        "from tensorflow.keras.callbacks import ModelCheckpoint\n",
        "\n",
        "cp = ModelCheckpoint('model/', save_best_only=True)\n",
        "\n",
        "model.compile(optimizer=Adam(learning_rate=0.0001),\n",
        "              loss=BinaryCrossentropy(),\n",
        "              metrics=['accuracy', AUC(name='auc')])"
      ],
      "metadata": {
        "id": "-GRJxj1-GOnz"
      },
      "execution_count": 113,
      "outputs": []
    },
    {
      "cell_type": "code",
      "source": [
        "frequencies = pd.value_counts(train_df['sarcastic'])\n",
        "\n",
        "frequencies"
      ],
      "metadata": {
        "colab": {
          "base_uri": "https://localhost:8080/"
        },
        "id": "HgLl6DWEGOq-",
        "outputId": "f79525f2-7fa2-468d-9300-40378d5622d2"
      },
      "execution_count": 114,
      "outputs": [
        {
          "output_type": "execute_result",
          "data": {
            "text/plain": [
              "0    1823\n",
              "1     604\n",
              "Name: sarcastic, dtype: int64"
            ]
          },
          "metadata": {},
          "execution_count": 114
        }
      ]
    },
    {
      "cell_type": "code",
      "source": [
        "weights = {0: frequencies.sum() / frequencies[0], 1: frequencies.sum() / frequencies[1]}\n",
        "weights"
      ],
      "metadata": {
        "colab": {
          "base_uri": "https://localhost:8080/"
        },
        "id": "cip_72LFGOun",
        "outputId": "cfc99d8f-213e-4d20-ce4a-558beef6d0fd"
      },
      "execution_count": 115,
      "outputs": [
        {
          "output_type": "execute_result",
          "data": {
            "text/plain": [
              "{0: 1.331321996708722, 1: 4.018211920529802}"
            ]
          },
          "metadata": {},
          "execution_count": 115
        }
      ]
    },
    {
      "cell_type": "code",
      "source": [
        "model.fit(X_train, y_train, validation_data=(X_val, y_val), epochs=20, callbacks=[cp], class_weight=weights)"
      ],
      "metadata": {
        "colab": {
          "base_uri": "https://localhost:8080/"
        },
        "id": "1d6Znog9GOyG",
        "outputId": "1957154d-2ed8-407a-9db0-9b46ce3e223a"
      },
      "execution_count": 116,
      "outputs": [
        {
          "output_type": "stream",
          "name": "stdout",
          "text": [
            "Epoch 1/20\n",
            "76/76 [==============================] - 72s 771ms/step - loss: 1.3863 - accuracy: 0.6786 - auc: 0.4950 - val_loss: 0.6980 - val_accuracy: 0.2942 - val_auc: 0.5702\n",
            "Epoch 2/20\n",
            "76/76 [==============================] - 15s 192ms/step - loss: 1.3850 - accuracy: 0.3778 - auc: 0.5338 - val_loss: 0.7053 - val_accuracy: 0.2827 - val_auc: 0.5395\n",
            "Epoch 3/20\n",
            "76/76 [==============================] - 15s 192ms/step - loss: 1.3837 - accuracy: 0.4273 - auc: 0.5437 - val_loss: 0.7010 - val_accuracy: 0.3481 - val_auc: 0.5616\n",
            "Epoch 4/20\n",
            "76/76 [==============================] - 55s 732ms/step - loss: 1.3808 - accuracy: 0.3914 - auc: 0.5698 - val_loss: 0.6867 - val_accuracy: 0.5423 - val_auc: 0.5728\n",
            "Epoch 5/20\n",
            "76/76 [==============================] - 56s 740ms/step - loss: 1.3777 - accuracy: 0.4903 - auc: 0.5619 - val_loss: 0.6820 - val_accuracy: 0.5519 - val_auc: 0.5715\n",
            "Epoch 6/20\n",
            "76/76 [==============================] - 55s 729ms/step - loss: 1.3725 - accuracy: 0.4944 - auc: 0.5786 - val_loss: 0.6555 - val_accuracy: 0.7269 - val_auc: 0.5904\n",
            "Epoch 7/20\n",
            "76/76 [==============================] - 15s 193ms/step - loss: 1.3706 - accuracy: 0.5496 - auc: 0.5733 - val_loss: 0.6624 - val_accuracy: 0.6692 - val_auc: 0.5896\n",
            "Epoch 8/20\n",
            "76/76 [==============================] - 15s 201ms/step - loss: 1.3627 - accuracy: 0.5801 - auc: 0.5980 - val_loss: 0.6616 - val_accuracy: 0.6346 - val_auc: 0.5987\n",
            "Epoch 9/20\n",
            "76/76 [==============================] - 14s 189ms/step - loss: 1.3523 - accuracy: 0.5768 - auc: 0.6144 - val_loss: 0.6557 - val_accuracy: 0.6308 - val_auc: 0.6014\n",
            "Epoch 10/20\n",
            "76/76 [==============================] - 15s 199ms/step - loss: 1.3411 - accuracy: 0.6082 - auc: 0.6273 - val_loss: 0.6886 - val_accuracy: 0.5192 - val_auc: 0.5923\n",
            "Epoch 11/20\n",
            "76/76 [==============================] - 15s 200ms/step - loss: 1.3360 - accuracy: 0.5859 - auc: 0.6279 - val_loss: 0.6861 - val_accuracy: 0.5250 - val_auc: 0.5813\n",
            "Epoch 12/20\n",
            "76/76 [==============================] - 55s 729ms/step - loss: 1.3329 - accuracy: 0.5653 - auc: 0.6322 - val_loss: 0.6256 - val_accuracy: 0.6846 - val_auc: 0.6014\n",
            "Epoch 13/20\n",
            "76/76 [==============================] - 14s 187ms/step - loss: 1.3283 - accuracy: 0.6255 - auc: 0.6391 - val_loss: 0.6791 - val_accuracy: 0.5538 - val_auc: 0.5891\n",
            "Epoch 14/20\n",
            "76/76 [==============================] - 15s 192ms/step - loss: 1.3119 - accuracy: 0.6152 - auc: 0.6594 - val_loss: 0.6707 - val_accuracy: 0.5788 - val_auc: 0.5885\n",
            "Epoch 15/20\n",
            "76/76 [==============================] - 15s 193ms/step - loss: 1.3081 - accuracy: 0.6226 - auc: 0.6585 - val_loss: 0.6747 - val_accuracy: 0.5788 - val_auc: 0.5928\n",
            "Epoch 16/20\n",
            "76/76 [==============================] - 15s 193ms/step - loss: 1.2963 - accuracy: 0.6156 - auc: 0.6718 - val_loss: 0.6593 - val_accuracy: 0.6077 - val_auc: 0.5843\n",
            "Epoch 17/20\n",
            "76/76 [==============================] - 14s 191ms/step - loss: 1.2822 - accuracy: 0.6354 - auc: 0.6848 - val_loss: 0.7074 - val_accuracy: 0.5346 - val_auc: 0.5766\n",
            "Epoch 18/20\n",
            "76/76 [==============================] - 15s 202ms/step - loss: 1.2894 - accuracy: 0.6218 - auc: 0.6756 - val_loss: 0.6756 - val_accuracy: 0.5769 - val_auc: 0.5866\n",
            "Epoch 19/20\n",
            "76/76 [==============================] - 15s 204ms/step - loss: 1.2721 - accuracy: 0.6428 - auc: 0.6933 - val_loss: 0.6346 - val_accuracy: 0.6404 - val_auc: 0.5855\n",
            "Epoch 20/20\n",
            "76/76 [==============================] - 15s 202ms/step - loss: 1.2679 - accuracy: 0.6391 - auc: 0.6942 - val_loss: 0.6663 - val_accuracy: 0.5981 - val_auc: 0.5867\n"
          ]
        },
        {
          "output_type": "execute_result",
          "data": {
            "text/plain": [
              "<keras.src.callbacks.History at 0x7fa3ea005d20>"
            ]
          },
          "metadata": {},
          "execution_count": 116
        }
      ]
    },
    {
      "cell_type": "code",
      "source": [
        "from tensorflow.keras.models import load_model\n",
        "\n",
        "best_model = load_model('model/')"
      ],
      "metadata": {
        "id": "VCbj_wrdGO4N"
      },
      "execution_count": 117,
      "outputs": []
    },
    {
      "cell_type": "code",
      "source": [
        "test_predictions = (best_model.predict(X_test) > 0.5).astype(int)\n",
        "\n",
        "from sklearn.metrics import classification_report\n",
        "\n",
        "print(classification_report(y_test, test_predictions))"
      ],
      "metadata": {
        "colab": {
          "base_uri": "https://localhost:8080/"
        },
        "id": "s3_FIgXvHxqD",
        "outputId": "b4ed6e53-0f59-4725-af83-ef79c9db5e15"
      },
      "execution_count": 118,
      "outputs": [
        {
          "output_type": "stream",
          "name": "stdout",
          "text": [
            "17/17 [==============================] - 4s 43ms/step\n",
            "              precision    recall  f1-score   support\n",
            "\n",
            "           0       0.76      0.77      0.76       394\n",
            "           1       0.26      0.25      0.25       127\n",
            "\n",
            "    accuracy                           0.64       521\n",
            "   macro avg       0.51      0.51      0.51       521\n",
            "weighted avg       0.64      0.64      0.64       521\n",
            "\n"
          ]
        }
      ]
    },
    {
      "cell_type": "code",
      "source": [],
      "metadata": {
        "id": "alRxEiXJHxwz"
      },
      "execution_count": null,
      "outputs": []
    },
    {
      "cell_type": "code",
      "source": [],
      "metadata": {
        "id": "vSEADC1cHx0B"
      },
      "execution_count": null,
      "outputs": []
    },
    {
      "cell_type": "code",
      "source": [],
      "metadata": {
        "id": "KNw4xEHlHx26"
      },
      "execution_count": null,
      "outputs": []
    },
    {
      "cell_type": "code",
      "source": [],
      "metadata": {
        "id": "UrhvVO0rHx6M"
      },
      "execution_count": null,
      "outputs": []
    }
  ]
}